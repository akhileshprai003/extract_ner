{
 "cells": [
  {
   "cell_type": "code",
   "execution_count": null,
   "metadata": {},
   "outputs": [],
   "source": [
    "!pip install flashtext\n",
    "!pip install s3fs"
   ]
  },
  {
   "cell_type": "code",
   "execution_count": 38,
   "metadata": {},
   "outputs": [
    {
     "name": "stdout",
     "output_type": "stream",
     "text": [
      "Defaulting to user installation because normal site-packages is not writeable\n",
      "Requirement already satisfied: presidio-analyzer in c:\\users\\c289588\\appdata\\local\\packages\\pythonsoftwarefoundation.python.3.12_qbz5n2kfra8p0\\localcache\\local-packages\\python312\\site-packages (2.2.27)\n",
      "Requirement already satisfied: presidio-anonymizer in c:\\users\\c289588\\appdata\\local\\packages\\pythonsoftwarefoundation.python.3.12_qbz5n2kfra8p0\\localcache\\local-packages\\python312\\site-packages (2.2.355)\n",
      "Requirement already satisfied: spacy>=3.2.0 in c:\\users\\c289588\\appdata\\local\\packages\\pythonsoftwarefoundation.python.3.12_qbz5n2kfra8p0\\localcache\\local-packages\\python312\\site-packages (from presidio-analyzer) (3.7.6)\n",
      "Requirement already satisfied: regex in c:\\users\\c289588\\appdata\\local\\packages\\pythonsoftwarefoundation.python.3.12_qbz5n2kfra8p0\\localcache\\local-packages\\python312\\site-packages (from presidio-analyzer) (2024.5.15)\n",
      "Requirement already satisfied: tldextract in c:\\users\\c289588\\appdata\\local\\packages\\pythonsoftwarefoundation.python.3.12_qbz5n2kfra8p0\\localcache\\local-packages\\python312\\site-packages (from presidio-analyzer) (5.1.2)\n",
      "Requirement already satisfied: pyyaml in c:\\users\\c289588\\appdata\\local\\packages\\pythonsoftwarefoundation.python.3.12_qbz5n2kfra8p0\\localcache\\local-packages\\python312\\site-packages (from presidio-analyzer) (6.0.1)\n",
      "Requirement already satisfied: phonenumbers>=8.12 in c:\\users\\c289588\\appdata\\local\\packages\\pythonsoftwarefoundation.python.3.12_qbz5n2kfra8p0\\localcache\\local-packages\\python312\\site-packages (from presidio-analyzer) (8.13.46)\n",
      "Requirement already satisfied: azure-core in c:\\users\\c289588\\appdata\\local\\packages\\pythonsoftwarefoundation.python.3.12_qbz5n2kfra8p0\\localcache\\local-packages\\python312\\site-packages (from presidio-anonymizer) (1.31.0)\n",
      "Requirement already satisfied: pycryptodome>=3.10.1 in c:\\users\\c289588\\appdata\\local\\packages\\pythonsoftwarefoundation.python.3.12_qbz5n2kfra8p0\\localcache\\local-packages\\python312\\site-packages (from presidio-anonymizer) (3.20.0)\n",
      "Requirement already satisfied: spacy-legacy<3.1.0,>=3.0.11 in c:\\users\\c289588\\appdata\\local\\packages\\pythonsoftwarefoundation.python.3.12_qbz5n2kfra8p0\\localcache\\local-packages\\python312\\site-packages (from spacy>=3.2.0->presidio-analyzer) (3.0.12)\n",
      "Requirement already satisfied: spacy-loggers<2.0.0,>=1.0.0 in c:\\users\\c289588\\appdata\\local\\packages\\pythonsoftwarefoundation.python.3.12_qbz5n2kfra8p0\\localcache\\local-packages\\python312\\site-packages (from spacy>=3.2.0->presidio-analyzer) (1.0.5)\n",
      "Requirement already satisfied: murmurhash<1.1.0,>=0.28.0 in c:\\users\\c289588\\appdata\\local\\packages\\pythonsoftwarefoundation.python.3.12_qbz5n2kfra8p0\\localcache\\local-packages\\python312\\site-packages (from spacy>=3.2.0->presidio-analyzer) (1.0.10)\n",
      "Requirement already satisfied: cymem<2.1.0,>=2.0.2 in c:\\users\\c289588\\appdata\\local\\packages\\pythonsoftwarefoundation.python.3.12_qbz5n2kfra8p0\\localcache\\local-packages\\python312\\site-packages (from spacy>=3.2.0->presidio-analyzer) (2.0.8)\n",
      "Requirement already satisfied: preshed<3.1.0,>=3.0.2 in c:\\users\\c289588\\appdata\\local\\packages\\pythonsoftwarefoundation.python.3.12_qbz5n2kfra8p0\\localcache\\local-packages\\python312\\site-packages (from spacy>=3.2.0->presidio-analyzer) (3.0.9)\n",
      "Requirement already satisfied: thinc<8.3.0,>=8.2.2 in c:\\users\\c289588\\appdata\\local\\packages\\pythonsoftwarefoundation.python.3.12_qbz5n2kfra8p0\\localcache\\local-packages\\python312\\site-packages (from spacy>=3.2.0->presidio-analyzer) (8.2.5)\n",
      "Requirement already satisfied: wasabi<1.2.0,>=0.9.1 in c:\\users\\c289588\\appdata\\local\\packages\\pythonsoftwarefoundation.python.3.12_qbz5n2kfra8p0\\localcache\\local-packages\\python312\\site-packages (from spacy>=3.2.0->presidio-analyzer) (1.1.3)\n",
      "Requirement already satisfied: srsly<3.0.0,>=2.4.3 in c:\\users\\c289588\\appdata\\local\\packages\\pythonsoftwarefoundation.python.3.12_qbz5n2kfra8p0\\localcache\\local-packages\\python312\\site-packages (from spacy>=3.2.0->presidio-analyzer) (2.4.8)\n",
      "Requirement already satisfied: catalogue<2.1.0,>=2.0.6 in c:\\users\\c289588\\appdata\\local\\packages\\pythonsoftwarefoundation.python.3.12_qbz5n2kfra8p0\\localcache\\local-packages\\python312\\site-packages (from spacy>=3.2.0->presidio-analyzer) (2.0.10)\n",
      "Requirement already satisfied: weasel<0.5.0,>=0.1.0 in c:\\users\\c289588\\appdata\\local\\packages\\pythonsoftwarefoundation.python.3.12_qbz5n2kfra8p0\\localcache\\local-packages\\python312\\site-packages (from spacy>=3.2.0->presidio-analyzer) (0.4.1)\n",
      "Requirement already satisfied: typer<1.0.0,>=0.3.0 in c:\\users\\c289588\\appdata\\local\\packages\\pythonsoftwarefoundation.python.3.12_qbz5n2kfra8p0\\localcache\\local-packages\\python312\\site-packages (from spacy>=3.2.0->presidio-analyzer) (0.12.3)\n",
      "Requirement already satisfied: tqdm<5.0.0,>=4.38.0 in c:\\users\\c289588\\appdata\\local\\packages\\pythonsoftwarefoundation.python.3.12_qbz5n2kfra8p0\\localcache\\local-packages\\python312\\site-packages (from spacy>=3.2.0->presidio-analyzer) (4.66.4)\n",
      "Requirement already satisfied: requests<3.0.0,>=2.13.0 in c:\\users\\c289588\\appdata\\local\\packages\\pythonsoftwarefoundation.python.3.12_qbz5n2kfra8p0\\localcache\\local-packages\\python312\\site-packages (from spacy>=3.2.0->presidio-analyzer) (2.32.3)\n",
      "Requirement already satisfied: pydantic!=1.8,!=1.8.1,<3.0.0,>=1.7.4 in c:\\users\\c289588\\appdata\\local\\packages\\pythonsoftwarefoundation.python.3.12_qbz5n2kfra8p0\\localcache\\local-packages\\python312\\site-packages (from spacy>=3.2.0->presidio-analyzer) (2.7.4)\n",
      "Requirement already satisfied: jinja2 in c:\\users\\c289588\\appdata\\local\\packages\\pythonsoftwarefoundation.python.3.12_qbz5n2kfra8p0\\localcache\\local-packages\\python312\\site-packages (from spacy>=3.2.0->presidio-analyzer) (3.1.4)\n",
      "Requirement already satisfied: setuptools in c:\\users\\c289588\\appdata\\local\\packages\\pythonsoftwarefoundation.python.3.12_qbz5n2kfra8p0\\localcache\\local-packages\\python312\\site-packages (from spacy>=3.2.0->presidio-analyzer) (75.1.0)\n",
      "Requirement already satisfied: packaging>=20.0 in c:\\users\\c289588\\appdata\\local\\packages\\pythonsoftwarefoundation.python.3.12_qbz5n2kfra8p0\\localcache\\local-packages\\python312\\site-packages (from spacy>=3.2.0->presidio-analyzer) (24.1)\n",
      "Requirement already satisfied: langcodes<4.0.0,>=3.2.0 in c:\\users\\c289588\\appdata\\local\\packages\\pythonsoftwarefoundation.python.3.12_qbz5n2kfra8p0\\localcache\\local-packages\\python312\\site-packages (from spacy>=3.2.0->presidio-analyzer) (3.4.1)\n",
      "Requirement already satisfied: numpy>=1.19.0 in c:\\users\\c289588\\appdata\\local\\packages\\pythonsoftwarefoundation.python.3.12_qbz5n2kfra8p0\\localcache\\local-packages\\python312\\site-packages (from spacy>=3.2.0->presidio-analyzer) (1.26.4)\n",
      "Requirement already satisfied: six>=1.11.0 in c:\\users\\c289588\\appdata\\local\\packages\\pythonsoftwarefoundation.python.3.12_qbz5n2kfra8p0\\localcache\\local-packages\\python312\\site-packages (from azure-core->presidio-anonymizer) (1.16.0)\n",
      "Requirement already satisfied: typing-extensions>=4.6.0 in c:\\users\\c289588\\appdata\\local\\packages\\pythonsoftwarefoundation.python.3.12_qbz5n2kfra8p0\\localcache\\local-packages\\python312\\site-packages (from azure-core->presidio-anonymizer) (4.12.2)\n",
      "Requirement already satisfied: idna in c:\\users\\c289588\\appdata\\local\\packages\\pythonsoftwarefoundation.python.3.12_qbz5n2kfra8p0\\localcache\\local-packages\\python312\\site-packages (from tldextract->presidio-analyzer) (3.7)\n",
      "Requirement already satisfied: requests-file>=1.4 in c:\\users\\c289588\\appdata\\local\\packages\\pythonsoftwarefoundation.python.3.12_qbz5n2kfra8p0\\localcache\\local-packages\\python312\\site-packages (from tldextract->presidio-analyzer) (2.1.0)\n",
      "Requirement already satisfied: filelock>=3.0.8 in c:\\users\\c289588\\appdata\\local\\packages\\pythonsoftwarefoundation.python.3.12_qbz5n2kfra8p0\\localcache\\local-packages\\python312\\site-packages (from tldextract->presidio-analyzer) (3.16.1)\n",
      "Requirement already satisfied: language-data>=1.2 in c:\\users\\c289588\\appdata\\local\\packages\\pythonsoftwarefoundation.python.3.12_qbz5n2kfra8p0\\localcache\\local-packages\\python312\\site-packages (from langcodes<4.0.0,>=3.2.0->spacy>=3.2.0->presidio-analyzer) (1.2.0)\n",
      "Requirement already satisfied: annotated-types>=0.4.0 in c:\\users\\c289588\\appdata\\local\\packages\\pythonsoftwarefoundation.python.3.12_qbz5n2kfra8p0\\localcache\\local-packages\\python312\\site-packages (from pydantic!=1.8,!=1.8.1,<3.0.0,>=1.7.4->spacy>=3.2.0->presidio-analyzer) (0.7.0)\n",
      "Requirement already satisfied: pydantic-core==2.18.4 in c:\\users\\c289588\\appdata\\local\\packages\\pythonsoftwarefoundation.python.3.12_qbz5n2kfra8p0\\localcache\\local-packages\\python312\\site-packages (from pydantic!=1.8,!=1.8.1,<3.0.0,>=1.7.4->spacy>=3.2.0->presidio-analyzer) (2.18.4)\n",
      "Requirement already satisfied: charset-normalizer<4,>=2 in c:\\users\\c289588\\appdata\\local\\packages\\pythonsoftwarefoundation.python.3.12_qbz5n2kfra8p0\\localcache\\local-packages\\python312\\site-packages (from requests<3.0.0,>=2.13.0->spacy>=3.2.0->presidio-analyzer) (3.3.2)\n",
      "Requirement already satisfied: urllib3<3,>=1.21.1 in c:\\users\\c289588\\appdata\\local\\packages\\pythonsoftwarefoundation.python.3.12_qbz5n2kfra8p0\\localcache\\local-packages\\python312\\site-packages (from requests<3.0.0,>=2.13.0->spacy>=3.2.0->presidio-analyzer) (2.2.2)\n",
      "Requirement already satisfied: certifi>=2017.4.17 in c:\\users\\c289588\\appdata\\local\\packages\\pythonsoftwarefoundation.python.3.12_qbz5n2kfra8p0\\localcache\\local-packages\\python312\\site-packages (from requests<3.0.0,>=2.13.0->spacy>=3.2.0->presidio-analyzer) (2024.6.2)\n",
      "Requirement already satisfied: blis<0.8.0,>=0.7.8 in c:\\users\\c289588\\appdata\\local\\packages\\pythonsoftwarefoundation.python.3.12_qbz5n2kfra8p0\\localcache\\local-packages\\python312\\site-packages (from thinc<8.3.0,>=8.2.2->spacy>=3.2.0->presidio-analyzer) (0.7.11)\n",
      "Requirement already satisfied: confection<1.0.0,>=0.0.1 in c:\\users\\c289588\\appdata\\local\\packages\\pythonsoftwarefoundation.python.3.12_qbz5n2kfra8p0\\localcache\\local-packages\\python312\\site-packages (from thinc<8.3.0,>=8.2.2->spacy>=3.2.0->presidio-analyzer) (0.1.5)\n",
      "Requirement already satisfied: colorama in c:\\users\\c289588\\appdata\\local\\packages\\pythonsoftwarefoundation.python.3.12_qbz5n2kfra8p0\\localcache\\local-packages\\python312\\site-packages (from tqdm<5.0.0,>=4.38.0->spacy>=3.2.0->presidio-analyzer) (0.4.6)\n",
      "Requirement already satisfied: click>=8.0.0 in c:\\users\\c289588\\appdata\\local\\packages\\pythonsoftwarefoundation.python.3.12_qbz5n2kfra8p0\\localcache\\local-packages\\python312\\site-packages (from typer<1.0.0,>=0.3.0->spacy>=3.2.0->presidio-analyzer) (8.1.7)\n",
      "Requirement already satisfied: shellingham>=1.3.0 in c:\\users\\c289588\\appdata\\local\\packages\\pythonsoftwarefoundation.python.3.12_qbz5n2kfra8p0\\localcache\\local-packages\\python312\\site-packages (from typer<1.0.0,>=0.3.0->spacy>=3.2.0->presidio-analyzer) (1.5.4)\n",
      "Requirement already satisfied: rich>=10.11.0 in c:\\users\\c289588\\appdata\\local\\packages\\pythonsoftwarefoundation.python.3.12_qbz5n2kfra8p0\\localcache\\local-packages\\python312\\site-packages (from typer<1.0.0,>=0.3.0->spacy>=3.2.0->presidio-analyzer) (13.7.1)\n",
      "Requirement already satisfied: cloudpathlib<1.0.0,>=0.7.0 in c:\\users\\c289588\\appdata\\local\\packages\\pythonsoftwarefoundation.python.3.12_qbz5n2kfra8p0\\localcache\\local-packages\\python312\\site-packages (from weasel<0.5.0,>=0.1.0->spacy>=3.2.0->presidio-analyzer) (0.19.0)\n",
      "Requirement already satisfied: smart-open<8.0.0,>=5.2.1 in c:\\users\\c289588\\appdata\\local\\packages\\pythonsoftwarefoundation.python.3.12_qbz5n2kfra8p0\\localcache\\local-packages\\python312\\site-packages (from weasel<0.5.0,>=0.1.0->spacy>=3.2.0->presidio-analyzer) (7.0.4)\n",
      "Requirement already satisfied: MarkupSafe>=2.0 in c:\\users\\c289588\\appdata\\local\\packages\\pythonsoftwarefoundation.python.3.12_qbz5n2kfra8p0\\localcache\\local-packages\\python312\\site-packages (from jinja2->spacy>=3.2.0->presidio-analyzer) (2.1.5)\n",
      "Requirement already satisfied: marisa-trie>=0.7.7 in c:\\users\\c289588\\appdata\\local\\packages\\pythonsoftwarefoundation.python.3.12_qbz5n2kfra8p0\\localcache\\local-packages\\python312\\site-packages (from language-data>=1.2->langcodes<4.0.0,>=3.2.0->spacy>=3.2.0->presidio-analyzer) (1.2.0)\n",
      "Requirement already satisfied: markdown-it-py>=2.2.0 in c:\\users\\c289588\\appdata\\local\\packages\\pythonsoftwarefoundation.python.3.12_qbz5n2kfra8p0\\localcache\\local-packages\\python312\\site-packages (from rich>=10.11.0->typer<1.0.0,>=0.3.0->spacy>=3.2.0->presidio-analyzer) (3.0.0)\n",
      "Requirement already satisfied: pygments<3.0.0,>=2.13.0 in c:\\users\\c289588\\appdata\\local\\packages\\pythonsoftwarefoundation.python.3.12_qbz5n2kfra8p0\\localcache\\local-packages\\python312\\site-packages (from rich>=10.11.0->typer<1.0.0,>=0.3.0->spacy>=3.2.0->presidio-analyzer) (2.18.0)\n",
      "Requirement already satisfied: wrapt in c:\\users\\c289588\\appdata\\local\\packages\\pythonsoftwarefoundation.python.3.12_qbz5n2kfra8p0\\localcache\\local-packages\\python312\\site-packages (from smart-open<8.0.0,>=5.2.1->weasel<0.5.0,>=0.1.0->spacy>=3.2.0->presidio-analyzer) (1.16.0)\n",
      "Requirement already satisfied: mdurl~=0.1 in c:\\users\\c289588\\appdata\\local\\packages\\pythonsoftwarefoundation.python.3.12_qbz5n2kfra8p0\\localcache\\local-packages\\python312\\site-packages (from markdown-it-py>=2.2.0->rich>=10.11.0->typer<1.0.0,>=0.3.0->spacy>=3.2.0->presidio-analyzer) (0.1.2)\n"
     ]
    }
   ],
   "source": [
    "!pip install presidio-analyzer presidio-anonymizer"
   ]
  },
  {
   "cell_type": "code",
   "execution_count": null,
   "metadata": {},
   "outputs": [],
   "source": [
    "!pip install s3fs\n",
    "!pip install wget\n",
    "!pip install certifi\n",
    "!pip install protobuf==3.20\n",
    "!pip install pandas==1.1.5\n",
    "!pip install polyfuzz[all]\n",
    "!pip install yake==0.4.8\n",
    "!pip install spacy==3.2.0\n",
    "!pip install https://github.com/explosion/spacy-models/releases/download/en_core_web_lg-3.2.0/en_core_web_lg-3.2.0.tar.gz\n",
    "!pip install spark-nlp==3.2.1 \n",
    "!pip install pyspark==3.1.1\n",
    "!pip install presidio-analyzer==2.2.27\n",
    "!pip install stanza==1.4.0\n",
    "!pip install rake-nltk==1.0.6\n",
    "!pip install nltk==3.6.3\n",
    "!pip install distributed==2022.2.0\n",
    "!pip install dask[dataframe]==2022.2.0\n",
    "!pip install numpy==1.20.0\n",
    "!pip install beautifulsoup4==4.11.1\n",
    "!pip install openpyxl==3.0.9\n",
    "!pip install summa==1.2.0\n",
    "!pip install tokenizers==0.12.1\n",
    "!pip install boto3\n",
    "!pip install torch\n",
    "!pip install transformers\n",
    "!pip install scikit-learn\n",
    "!pip install BeautifulSoup4\n",
    "!pip install sentence_transformers\n",
    "!pip install lxml\n",
    "!pip install pyjarowinkler\n",
    "!pip install editdistance\n",
    "!pip install fuzzywuzzy\n",
    "!pip install rapidfuzz presidio-anonymizer"
   ]
  },
  {
   "cell_type": "code",
   "execution_count": null,
   "metadata": {},
   "outputs": [],
   "source": [
    "!pip install openpyxl"
   ]
  },
  {
   "cell_type": "code",
   "execution_count": 4,
   "metadata": {},
   "outputs": [],
   "source": [
    "import os\n",
    "import io\n",
    "import time\n",
    "import re\n",
    "import boto3\n",
    "import s3fs\n",
    "import json\n",
    "import html\n",
    "import nltk\n",
    "import datetime\n",
    "import yake\n",
    "import random\n",
    "import spacy\n",
    "import requests\n",
    "import logging\n",
    "import traceback\n",
    "import pandas as pd\n",
    "import numpy as np\n",
    "import warnings\n",
    "from summa import keywords\n",
    "warnings.filterwarnings('ignore')\n",
    "from polyfuzz import PolyFuzz\n",
    "from rapidfuzz import fuzz\n",
    "from nltk.tokenize import word_tokenize\n",
    "from itertools import groupby\n",
    "from rake_nltk import Rake\n",
    "from bs4 import BeautifulSoup\n",
    "from flashtext import KeywordProcessor\n",
    "from polyfuzz.models import TFIDF,RapidFuzz,Embeddings,EditDistance\n"
   ]
  },
  {
   "cell_type": "code",
   "execution_count": 39,
   "metadata": {},
   "outputs": [],
   "source": [
    "text = \"Hi Nicole, Hope you are having a great week so far! I wanted to reach out and see if you were interested in attending our upcoming program at Jay's Bistro. Dr. Ammon Larsen will be presenting and answering questions, valuable resources. Please see below for program location and information. Hope to see you there!   Date and time: Thursday, June 29, 2023 6:30 PM Location: Jay's Bistro 135 West Oak Street Fort Collins, CO\""
   ]
  },
  {
   "cell_type": "code",
   "execution_count": 51,
   "metadata": {},
   "outputs": [],
   "source": [
    "text = [\"Hey Sarah, you should stop by David's Bakery on Main Street for some fresh bread.\",\n",
    "\"If you're in the mood for a treat, head over to Sarah's Café on Oak Avenue – they have the best pastries, David!\",\n",
    "\"I recommend you take your car to John's Auto Repair on Maple Road, Michael, if it needs servicing.\",\n",
    "\"How about we meet at Emily's Bookstore near the park to grab some new books, Linda?\",\n",
    "\"You should check out Rachel's Floral Shop on River Drive, Jessica – they have gorgeous flowers.\",\n",
    "\"I heard Tom's Electronics on Elm Street is having a big sale this weekend, Robert. You might want to visit!\",\n",
    "\"If you need any alterations, Mike's Tailoring on the corner of 5th and Pine is the place to go, Mark.\",\n",
    "\"I bet you'd love Laura's Boutique on Queen's Lane, Emma. They have some really stylish clothes.\",\n",
    "\"You should grab a coffee at Anna's Espresso Bar on Broadway next time you're in the area, Jake.\",\n",
    "\"If you're looking for a new gym, Jack's Gym on 2nd Avenue just opened a fantastic fitness center, Olivia.\",\n",
    "\"Hi Nicole, Hope you are having a great week so far! I wanted to reach out and see if you were interested in attending our upcoming program at Jay's Bistro. Dr. Ammon Larsen will be presenting and answering questions, valuable resources. Please see below for program location and information. Hope to see you there!   Date and time: Thursday, June 29, 2023 6:30 PM Location: Jay's Bistro 135 West Oak Street Fort Collins, CO\"\n",
    "]"
   ]
  },
  {
   "cell_type": "code",
   "execution_count": 67,
   "metadata": {},
   "outputs": [],
   "source": [
    "data_file = 'C:\\\\Users\\\\C289588\\\\Downloads\\\\hcp\\\\False_Positive_Analysis\\\\check_keywords_both_all_data.xlsx'"
   ]
  },
  {
   "cell_type": "code",
   "execution_count": 68,
   "metadata": {},
   "outputs": [],
   "source": [
    "import pandas as pd\n",
    "data = pd.read_excel(data_file)"
   ]
  },
  {
   "cell_type": "code",
   "execution_count": 40,
   "metadata": {},
   "outputs": [
    {
     "name": "stderr",
     "output_type": "stream",
     "text": [
      "[nltk_data] Downloading package punkt to\n",
      "[nltk_data]     C:\\Users\\C289588\\AppData\\Roaming\\nltk_data...\n",
      "[nltk_data]   Package punkt is already up-to-date!\n"
     ]
    },
    {
     "data": {
      "text/plain": [
       "True"
      ]
     },
     "execution_count": 40,
     "metadata": {},
     "output_type": "execute_result"
    }
   ],
   "source": [
    "nltk.download('punkt')"
   ]
  },
  {
   "cell_type": "code",
   "execution_count": 41,
   "metadata": {},
   "outputs": [
    {
     "name": "stdout",
     "output_type": "stream",
     "text": [
      "Defaulting to user installation because normal site-packages is not writeable\n",
      "Requirement already satisfied: nltk in c:\\users\\c289588\\appdata\\local\\packages\\pythonsoftwarefoundation.python.3.12_qbz5n2kfra8p0\\localcache\\local-packages\\python312\\site-packages (3.6.3)\n",
      "Requirement already satisfied: click in c:\\users\\c289588\\appdata\\local\\packages\\pythonsoftwarefoundation.python.3.12_qbz5n2kfra8p0\\localcache\\local-packages\\python312\\site-packages (from nltk) (8.1.7)\n",
      "Requirement already satisfied: joblib in c:\\users\\c289588\\appdata\\local\\packages\\pythonsoftwarefoundation.python.3.12_qbz5n2kfra8p0\\localcache\\local-packages\\python312\\site-packages (from nltk) (1.4.2)\n",
      "Requirement already satisfied: regex in c:\\users\\c289588\\appdata\\local\\packages\\pythonsoftwarefoundation.python.3.12_qbz5n2kfra8p0\\localcache\\local-packages\\python312\\site-packages (from nltk) (2024.5.15)\n",
      "Requirement already satisfied: tqdm in c:\\users\\c289588\\appdata\\local\\packages\\pythonsoftwarefoundation.python.3.12_qbz5n2kfra8p0\\localcache\\local-packages\\python312\\site-packages (from nltk) (4.66.4)\n",
      "Requirement already satisfied: colorama in c:\\users\\c289588\\appdata\\local\\packages\\pythonsoftwarefoundation.python.3.12_qbz5n2kfra8p0\\localcache\\local-packages\\python312\\site-packages (from click->nltk) (0.4.6)\n"
     ]
    }
   ],
   "source": [
    "!pip install nltk\n"
   ]
  },
  {
   "cell_type": "markdown",
   "metadata": {},
   "source": [
    "Presidio"
   ]
  },
  {
   "cell_type": "code",
   "execution_count": 90,
   "metadata": {},
   "outputs": [
    {
     "name": "stdout",
     "output_type": "stream",
     "text": [
      "Entity: PERSON, Value: <bound method RecognizerResult.contains of type: PERSON, start: 3, end: 9, score: 0.85>\n",
      "Entity: PERSON, Value: <bound method RecognizerResult.contains of type: PERSON, start: 160, end: 172, score: 0.85>\n"
     ]
    },
    {
     "data": {
      "text/plain": [
       "\"Hi <PERSON>, Hope you are having a great week so far! I wanted to reach out and see if you were interested in attending our upcoming program at Jay's Bistro. Dr. <PERSON> will be presenting and answering questions, valuable resources. Please see below for program location and information. Hope to see you there!   Date and time: Thursday, June 29, 2023 6:30 PM Location: Jay's Bistro 135 West Oak Street Fort Collins, CO\""
      ]
     },
     "execution_count": 90,
     "metadata": {},
     "output_type": "execute_result"
    }
   ],
   "source": [
    "from presidio_analyzer import AnalyzerEngine\n",
    "from presidio_anonymizer import AnonymizerEngine\n",
    "\n",
    "\n",
    "anonymizer = AnonymizerEngine()\n",
    "\n",
    "# Initialize Presidio analyzer\n",
    "analyzer = AnalyzerEngine()\n",
    "\n",
    "# Sample text containing name and address\n",
    "#text = \"John Doe lives at 1234 Elm Street, Springfield, IL 62704.\"\n",
    "\n",
    "# Analyze the text for entities\n",
    "results = analyzer.analyze(text=text, entities=[\"PERSON\", \"LOCATION\"], language='en')\n",
    "\n",
    "# Print results\n",
    "for result in results:\n",
    "    #print(f\"Entity: {result.entity_type}, Value: {result.text}\")\n",
    "    print(f\"Entity: {result.entity_type}, Value: {result.contains}\")\n",
    "\n",
    "anonymized_text = anonymizer.anonymize(\n",
    "       text=text,\n",
    "       analyzer_results=results\n",
    "   )\n",
    "anonymized_text.text"
   ]
  },
  {
   "cell_type": "markdown",
   "metadata": {},
   "source": [
    "NLTK"
   ]
  },
  {
   "cell_type": "code",
   "execution_count": 31,
   "metadata": {},
   "outputs": [
    {
     "name": "stderr",
     "output_type": "stream",
     "text": [
      "[nltk_data] Downloading package wordnet to\n",
      "[nltk_data]     C:\\Users\\C289588\\AppData\\Roaming\\nltk_data...\n",
      "[nltk_data] Downloading package omw-1.4 to\n",
      "[nltk_data]     C:\\Users\\C289588\\AppData\\Roaming\\nltk_data...\n"
     ]
    },
    {
     "data": {
      "text/plain": [
       "True"
      ]
     },
     "execution_count": 31,
     "metadata": {},
     "output_type": "execute_result"
    }
   ],
   "source": [
    "import nltk\n",
    "nltk.download('wordnet')\n",
    "nltk.download('omw-1.4')"
   ]
  },
  {
   "cell_type": "code",
   "execution_count": 32,
   "metadata": {},
   "outputs": [
    {
     "name": "stdout",
     "output_type": "stream",
     "text": [
      "[('Meet', 'Uncertain'), ('me', 'Uncertain'), ('at', 'Uncertain'), (\"David's\", 'Uncertain'), ('Restaurant.', 'Uncertain')]\n",
      "[('Meet', 'Uncertain'), ('David', 'Uncertain'), ('at', 'Uncertain'), ('the', 'Uncertain'), ('restaurant.', 'Uncertain')]\n"
     ]
    }
   ],
   "source": [
    "from nltk.corpus import wordnet as wn\n",
    "\n",
    "def disambiguate_word(word):\n",
    "    # Look up the word in WordNet\n",
    "    synsets = wn.synsets(word)\n",
    "\n",
    "    if not synsets:\n",
    "        return None\n",
    "\n",
    "    # For simplicity, we use the first sense\n",
    "    return synsets[0].lemma_names()\n",
    "\n",
    "def identify_place_or_person(text):\n",
    "    words = text.split()\n",
    "    places_or_people = []\n",
    "\n",
    "    for word in words:\n",
    "        word_senses = disambiguate_word(word)\n",
    "\n",
    "        if word_senses:\n",
    "            # Look for clues in WordNet senses\n",
    "            if \"person\" in word_senses[0].lower():\n",
    "                places_or_people.append((word, \"Person\"))\n",
    "            elif \"location\" in word_senses[0].lower():\n",
    "                places_or_people.append((word, \"Place\"))\n",
    "            else:\n",
    "                places_or_people.append((word, \"Uncertain\"))\n",
    "        else:\n",
    "            places_or_people.append((word, \"Uncertain\"))\n",
    "\n",
    "    return places_or_people\n",
    "\n",
    "# Example sentences\n",
    "sentence1 = \"Meet me at David's Restaurant.\"\n",
    "sentence2 = \"Meet David at the restaurant.\"\n",
    "\n",
    "print(identify_place_or_person(sentence1))\n",
    "print(identify_place_or_person(sentence2))\n"
   ]
  },
  {
   "cell_type": "code",
   "execution_count": 14,
   "metadata": {},
   "outputs": [
    {
     "name": "stderr",
     "output_type": "stream",
     "text": [
      "[nltk_data] Downloading package punkt to\n",
      "[nltk_data]     C:\\Users\\C289588\\AppData\\Roaming\\nltk_data...\n",
      "[nltk_data]   Package punkt is already up-to-date!\n",
      "[nltk_data] Downloading package maxent_ne_chunker to\n",
      "[nltk_data]     C:\\Users\\C289588\\AppData\\Roaming\\nltk_data...\n",
      "[nltk_data]   Unzipping chunkers\\maxent_ne_chunker.zip.\n",
      "[nltk_data] Downloading package words to\n",
      "[nltk_data]     C:\\Users\\C289588\\AppData\\Roaming\\nltk_data...\n",
      "[nltk_data]   Unzipping corpora\\words.zip.\n"
     ]
    },
    {
     "ename": "LookupError",
     "evalue": "\n**********************************************************************\n  Resource \u001b[93maveraged_perceptron_tagger\u001b[0m not found.\n  Please use the NLTK Downloader to obtain the resource:\n\n  \u001b[31m>>> import nltk\n  >>> nltk.download('averaged_perceptron_tagger')\n  \u001b[0m\n  For more information see: https://www.nltk.org/data.html\n\n  Attempted to load \u001b[93mtaggers/averaged_perceptron_tagger/averaged_perceptron_tagger.pickle\u001b[0m\n\n  Searched in:\n    - 'C:\\\\Users\\\\C289588/nltk_data'\n    - 'C:\\\\Program Files\\\\WindowsApps\\\\PythonSoftwareFoundation.Python.3.12_3.12.2288.0_x64__qbz5n2kfra8p0\\\\nltk_data'\n    - 'C:\\\\Program Files\\\\WindowsApps\\\\PythonSoftwareFoundation.Python.3.12_3.12.2288.0_x64__qbz5n2kfra8p0\\\\share\\\\nltk_data'\n    - 'C:\\\\Program Files\\\\WindowsApps\\\\PythonSoftwareFoundation.Python.3.12_3.12.2288.0_x64__qbz5n2kfra8p0\\\\lib\\\\nltk_data'\n    - 'C:\\\\Users\\\\C289588\\\\AppData\\\\Roaming\\\\nltk_data'\n    - 'C:\\\\nltk_data'\n    - 'D:\\\\nltk_data'\n    - 'E:\\\\nltk_data'\n**********************************************************************\n",
     "output_type": "error",
     "traceback": [
      "\u001b[1;31m---------------------------------------------------------------------------\u001b[0m",
      "\u001b[1;31mLookupError\u001b[0m                               Traceback (most recent call last)",
      "Cell \u001b[1;32mIn[14], line 17\u001b[0m\n\u001b[0;32m     14\u001b[0m words \u001b[38;5;241m=\u001b[39m word_tokenize(text)\n\u001b[0;32m     16\u001b[0m \u001b[38;5;66;03m# Tag the words with parts of speech\u001b[39;00m\n\u001b[1;32m---> 17\u001b[0m tagged \u001b[38;5;241m=\u001b[39m \u001b[43mpos_tag\u001b[49m\u001b[43m(\u001b[49m\u001b[43mwords\u001b[49m\u001b[43m)\u001b[49m\n\u001b[0;32m     19\u001b[0m \u001b[38;5;66;03m# Perform named entity recognition\u001b[39;00m\n\u001b[0;32m     20\u001b[0m tree \u001b[38;5;241m=\u001b[39m ne_chunk(tagged)\n",
      "File \u001b[1;32m~\\AppData\\Local\\Packages\\PythonSoftwareFoundation.Python.3.12_qbz5n2kfra8p0\\LocalCache\\local-packages\\Python312\\site-packages\\nltk\\tag\\__init__.py:165\u001b[0m, in \u001b[0;36mpos_tag\u001b[1;34m(tokens, tagset, lang)\u001b[0m\n\u001b[0;32m    140\u001b[0m \u001b[38;5;28;01mdef\u001b[39;00m \u001b[38;5;21mpos_tag\u001b[39m(tokens, tagset\u001b[38;5;241m=\u001b[39m\u001b[38;5;28;01mNone\u001b[39;00m, lang\u001b[38;5;241m=\u001b[39m\u001b[38;5;124m\"\u001b[39m\u001b[38;5;124meng\u001b[39m\u001b[38;5;124m\"\u001b[39m):\n\u001b[0;32m    141\u001b[0m \u001b[38;5;250m    \u001b[39m\u001b[38;5;124;03m\"\"\"\u001b[39;00m\n\u001b[0;32m    142\u001b[0m \u001b[38;5;124;03m    Use NLTK's currently recommended part of speech tagger to\u001b[39;00m\n\u001b[0;32m    143\u001b[0m \u001b[38;5;124;03m    tag the given list of tokens.\u001b[39;00m\n\u001b[1;32m   (...)\u001b[0m\n\u001b[0;32m    163\u001b[0m \u001b[38;5;124;03m    :rtype: list(tuple(str, str))\u001b[39;00m\n\u001b[0;32m    164\u001b[0m \u001b[38;5;124;03m    \"\"\"\u001b[39;00m\n\u001b[1;32m--> 165\u001b[0m     tagger \u001b[38;5;241m=\u001b[39m \u001b[43m_get_tagger\u001b[49m\u001b[43m(\u001b[49m\u001b[43mlang\u001b[49m\u001b[43m)\u001b[49m\n\u001b[0;32m    166\u001b[0m     \u001b[38;5;28;01mreturn\u001b[39;00m _pos_tag(tokens, tagset, tagger, lang)\n",
      "File \u001b[1;32m~\\AppData\\Local\\Packages\\PythonSoftwareFoundation.Python.3.12_qbz5n2kfra8p0\\LocalCache\\local-packages\\Python312\\site-packages\\nltk\\tag\\__init__.py:107\u001b[0m, in \u001b[0;36m_get_tagger\u001b[1;34m(lang)\u001b[0m\n\u001b[0;32m    105\u001b[0m     tagger\u001b[38;5;241m.\u001b[39mload(ap_russian_model_loc)\n\u001b[0;32m    106\u001b[0m \u001b[38;5;28;01melse\u001b[39;00m:\n\u001b[1;32m--> 107\u001b[0m     tagger \u001b[38;5;241m=\u001b[39m \u001b[43mPerceptronTagger\u001b[49m\u001b[43m(\u001b[49m\u001b[43m)\u001b[49m\n\u001b[0;32m    108\u001b[0m \u001b[38;5;28;01mreturn\u001b[39;00m tagger\n",
      "File \u001b[1;32m~\\AppData\\Local\\Packages\\PythonSoftwareFoundation.Python.3.12_qbz5n2kfra8p0\\LocalCache\\local-packages\\Python312\\site-packages\\nltk\\tag\\perceptron.py:167\u001b[0m, in \u001b[0;36mPerceptronTagger.__init__\u001b[1;34m(self, load)\u001b[0m\n\u001b[0;32m    164\u001b[0m \u001b[38;5;28mself\u001b[39m\u001b[38;5;241m.\u001b[39mclasses \u001b[38;5;241m=\u001b[39m \u001b[38;5;28mset\u001b[39m()\n\u001b[0;32m    165\u001b[0m \u001b[38;5;28;01mif\u001b[39;00m load:\n\u001b[0;32m    166\u001b[0m     AP_MODEL_LOC \u001b[38;5;241m=\u001b[39m \u001b[38;5;124m\"\u001b[39m\u001b[38;5;124mfile:\u001b[39m\u001b[38;5;124m\"\u001b[39m \u001b[38;5;241m+\u001b[39m \u001b[38;5;28mstr\u001b[39m(\n\u001b[1;32m--> 167\u001b[0m         \u001b[43mfind\u001b[49m\u001b[43m(\u001b[49m\u001b[38;5;124;43m\"\u001b[39;49m\u001b[38;5;124;43mtaggers/averaged_perceptron_tagger/\u001b[39;49m\u001b[38;5;124;43m\"\u001b[39;49m\u001b[43m \u001b[49m\u001b[38;5;241;43m+\u001b[39;49m\u001b[43m \u001b[49m\u001b[43mPICKLE\u001b[49m\u001b[43m)\u001b[49m\n\u001b[0;32m    168\u001b[0m     )\n\u001b[0;32m    169\u001b[0m     \u001b[38;5;28mself\u001b[39m\u001b[38;5;241m.\u001b[39mload(AP_MODEL_LOC)\n",
      "File \u001b[1;32m~\\AppData\\Local\\Packages\\PythonSoftwareFoundation.Python.3.12_qbz5n2kfra8p0\\LocalCache\\local-packages\\Python312\\site-packages\\nltk\\data.py:583\u001b[0m, in \u001b[0;36mfind\u001b[1;34m(resource_name, paths)\u001b[0m\n\u001b[0;32m    581\u001b[0m sep \u001b[38;5;241m=\u001b[39m \u001b[38;5;124m\"\u001b[39m\u001b[38;5;124m*\u001b[39m\u001b[38;5;124m\"\u001b[39m \u001b[38;5;241m*\u001b[39m \u001b[38;5;241m70\u001b[39m\n\u001b[0;32m    582\u001b[0m resource_not_found \u001b[38;5;241m=\u001b[39m \u001b[38;5;124mf\u001b[39m\u001b[38;5;124m\"\u001b[39m\u001b[38;5;130;01m\\n\u001b[39;00m\u001b[38;5;132;01m{\u001b[39;00msep\u001b[38;5;132;01m}\u001b[39;00m\u001b[38;5;130;01m\\n\u001b[39;00m\u001b[38;5;132;01m{\u001b[39;00mmsg\u001b[38;5;132;01m}\u001b[39;00m\u001b[38;5;130;01m\\n\u001b[39;00m\u001b[38;5;132;01m{\u001b[39;00msep\u001b[38;5;132;01m}\u001b[39;00m\u001b[38;5;130;01m\\n\u001b[39;00m\u001b[38;5;124m\"\u001b[39m\n\u001b[1;32m--> 583\u001b[0m \u001b[38;5;28;01mraise\u001b[39;00m \u001b[38;5;167;01mLookupError\u001b[39;00m(resource_not_found)\n",
      "\u001b[1;31mLookupError\u001b[0m: \n**********************************************************************\n  Resource \u001b[93maveraged_perceptron_tagger\u001b[0m not found.\n  Please use the NLTK Downloader to obtain the resource:\n\n  \u001b[31m>>> import nltk\n  >>> nltk.download('averaged_perceptron_tagger')\n  \u001b[0m\n  For more information see: https://www.nltk.org/data.html\n\n  Attempted to load \u001b[93mtaggers/averaged_perceptron_tagger/averaged_perceptron_tagger.pickle\u001b[0m\n\n  Searched in:\n    - 'C:\\\\Users\\\\C289588/nltk_data'\n    - 'C:\\\\Program Files\\\\WindowsApps\\\\PythonSoftwareFoundation.Python.3.12_3.12.2288.0_x64__qbz5n2kfra8p0\\\\nltk_data'\n    - 'C:\\\\Program Files\\\\WindowsApps\\\\PythonSoftwareFoundation.Python.3.12_3.12.2288.0_x64__qbz5n2kfra8p0\\\\share\\\\nltk_data'\n    - 'C:\\\\Program Files\\\\WindowsApps\\\\PythonSoftwareFoundation.Python.3.12_3.12.2288.0_x64__qbz5n2kfra8p0\\\\lib\\\\nltk_data'\n    - 'C:\\\\Users\\\\C289588\\\\AppData\\\\Roaming\\\\nltk_data'\n    - 'C:\\\\nltk_data'\n    - 'D:\\\\nltk_data'\n    - 'E:\\\\nltk_data'\n**********************************************************************\n"
     ]
    }
   ],
   "source": [
    "import nltk\n",
    "from nltk import word_tokenize, pos_tag, ne_chunk\n",
    "from nltk.tree import Tree\n",
    "\n",
    "# Ensure necessary resources are downloaded\n",
    "nltk.download('punkt')\n",
    "nltk.download('maxent_ne_chunker')\n",
    "nltk.download('words')\n",
    "\n",
    "# Sample text\n",
    "text = \"John Doe lives at 1234 Elm Street, Springfield, IL 62704.\"\n",
    "\n",
    "# Tokenize the text\n",
    "words = word_tokenize(text)\n",
    "\n",
    "# Tag the words with parts of speech\n",
    "tagged = pos_tag(words)\n",
    "\n",
    "# Perform named entity recognition\n",
    "tree = ne_chunk(tagged)\n",
    "\n",
    "# Extract named entities\n",
    "for subtree in tree:\n",
    "    if isinstance(subtree, Tree):\n",
    "        entity = \" \".join([word for word, tag in subtree])\n",
    "        label = subtree.label()\n",
    "        if label == \"GPE\":\n",
    "            print(f\"Address-like Entity: {entity}\")\n",
    "        elif label == \"PERSON\":\n",
    "            print(f\"Name: {entity}\")"
   ]
  },
  {
   "cell_type": "code",
   "execution_count": 7,
   "metadata": {},
   "outputs": [
    {
     "name": "stdout",
     "output_type": "stream",
     "text": [
      "['IS_SCORE_ENHANCED_BY_CONTEXT_KEY', 'RECOGNIZER_NAME_KEY', '__class__', '__delattr__', '__dict__', '__dir__', '__doc__', '__eq__', '__format__', '__ge__', '__getattribute__', '__getstate__', '__gt__', '__hash__', '__init__', '__init_subclass__', '__le__', '__lt__', '__module__', '__ne__', '__new__', '__reduce__', '__reduce_ex__', '__repr__', '__setattr__', '__sizeof__', '__slotnames__', '__str__', '__subclasshook__', '__weakref__', 'analysis_explanation', 'append_analysis_explanation_text', 'contained_in', 'contains', 'end', 'entity_type', 'equal_indices', 'from_json', 'has_conflict', 'intersects', 'logger', 'recognition_metadata', 'score', 'start', 'to_dict']\n",
      "['IS_SCORE_ENHANCED_BY_CONTEXT_KEY', 'RECOGNIZER_NAME_KEY', '__class__', '__delattr__', '__dict__', '__dir__', '__doc__', '__eq__', '__format__', '__ge__', '__getattribute__', '__getstate__', '__gt__', '__hash__', '__init__', '__init_subclass__', '__le__', '__lt__', '__module__', '__ne__', '__new__', '__reduce__', '__reduce_ex__', '__repr__', '__setattr__', '__sizeof__', '__slotnames__', '__str__', '__subclasshook__', '__weakref__', 'analysis_explanation', 'append_analysis_explanation_text', 'contained_in', 'contains', 'end', 'entity_type', 'equal_indices', 'from_json', 'has_conflict', 'intersects', 'logger', 'recognition_metadata', 'score', 'start', 'to_dict']\n"
     ]
    }
   ],
   "source": [
    "for result in results:\n",
    "    print(dir(result))"
   ]
  },
  {
   "cell_type": "markdown",
   "metadata": {},
   "source": [
    "SPACY"
   ]
  },
  {
   "cell_type": "code",
   "execution_count": 42,
   "metadata": {},
   "outputs": [
    {
     "name": "stdout",
     "output_type": "stream",
     "text": [
      "Defaulting to user installation because normal site-packages is not writeable\n",
      "Requirement already satisfied: spacy in c:\\users\\c289588\\appdata\\local\\packages\\pythonsoftwarefoundation.python.3.12_qbz5n2kfra8p0\\localcache\\local-packages\\python312\\site-packages (3.7.6)\n",
      "Requirement already satisfied: spacy-legacy<3.1.0,>=3.0.11 in c:\\users\\c289588\\appdata\\local\\packages\\pythonsoftwarefoundation.python.3.12_qbz5n2kfra8p0\\localcache\\local-packages\\python312\\site-packages (from spacy) (3.0.12)\n",
      "Requirement already satisfied: spacy-loggers<2.0.0,>=1.0.0 in c:\\users\\c289588\\appdata\\local\\packages\\pythonsoftwarefoundation.python.3.12_qbz5n2kfra8p0\\localcache\\local-packages\\python312\\site-packages (from spacy) (1.0.5)\n",
      "Requirement already satisfied: murmurhash<1.1.0,>=0.28.0 in c:\\users\\c289588\\appdata\\local\\packages\\pythonsoftwarefoundation.python.3.12_qbz5n2kfra8p0\\localcache\\local-packages\\python312\\site-packages (from spacy) (1.0.10)\n",
      "Requirement already satisfied: cymem<2.1.0,>=2.0.2 in c:\\users\\c289588\\appdata\\local\\packages\\pythonsoftwarefoundation.python.3.12_qbz5n2kfra8p0\\localcache\\local-packages\\python312\\site-packages (from spacy) (2.0.8)\n",
      "Requirement already satisfied: preshed<3.1.0,>=3.0.2 in c:\\users\\c289588\\appdata\\local\\packages\\pythonsoftwarefoundation.python.3.12_qbz5n2kfra8p0\\localcache\\local-packages\\python312\\site-packages (from spacy) (3.0.9)\n",
      "Requirement already satisfied: thinc<8.3.0,>=8.2.2 in c:\\users\\c289588\\appdata\\local\\packages\\pythonsoftwarefoundation.python.3.12_qbz5n2kfra8p0\\localcache\\local-packages\\python312\\site-packages (from spacy) (8.2.5)\n",
      "Requirement already satisfied: wasabi<1.2.0,>=0.9.1 in c:\\users\\c289588\\appdata\\local\\packages\\pythonsoftwarefoundation.python.3.12_qbz5n2kfra8p0\\localcache\\local-packages\\python312\\site-packages (from spacy) (1.1.3)\n",
      "Requirement already satisfied: srsly<3.0.0,>=2.4.3 in c:\\users\\c289588\\appdata\\local\\packages\\pythonsoftwarefoundation.python.3.12_qbz5n2kfra8p0\\localcache\\local-packages\\python312\\site-packages (from spacy) (2.4.8)\n",
      "Requirement already satisfied: catalogue<2.1.0,>=2.0.6 in c:\\users\\c289588\\appdata\\local\\packages\\pythonsoftwarefoundation.python.3.12_qbz5n2kfra8p0\\localcache\\local-packages\\python312\\site-packages (from spacy) (2.0.10)\n",
      "Requirement already satisfied: weasel<0.5.0,>=0.1.0 in c:\\users\\c289588\\appdata\\local\\packages\\pythonsoftwarefoundation.python.3.12_qbz5n2kfra8p0\\localcache\\local-packages\\python312\\site-packages (from spacy) (0.4.1)\n",
      "Requirement already satisfied: typer<1.0.0,>=0.3.0 in c:\\users\\c289588\\appdata\\local\\packages\\pythonsoftwarefoundation.python.3.12_qbz5n2kfra8p0\\localcache\\local-packages\\python312\\site-packages (from spacy) (0.12.3)\n",
      "Requirement already satisfied: tqdm<5.0.0,>=4.38.0 in c:\\users\\c289588\\appdata\\local\\packages\\pythonsoftwarefoundation.python.3.12_qbz5n2kfra8p0\\localcache\\local-packages\\python312\\site-packages (from spacy) (4.66.4)\n",
      "Requirement already satisfied: requests<3.0.0,>=2.13.0 in c:\\users\\c289588\\appdata\\local\\packages\\pythonsoftwarefoundation.python.3.12_qbz5n2kfra8p0\\localcache\\local-packages\\python312\\site-packages (from spacy) (2.32.3)\n",
      "Requirement already satisfied: pydantic!=1.8,!=1.8.1,<3.0.0,>=1.7.4 in c:\\users\\c289588\\appdata\\local\\packages\\pythonsoftwarefoundation.python.3.12_qbz5n2kfra8p0\\localcache\\local-packages\\python312\\site-packages (from spacy) (2.7.4)\n",
      "Requirement already satisfied: jinja2 in c:\\users\\c289588\\appdata\\local\\packages\\pythonsoftwarefoundation.python.3.12_qbz5n2kfra8p0\\localcache\\local-packages\\python312\\site-packages (from spacy) (3.1.4)\n",
      "Requirement already satisfied: setuptools in c:\\users\\c289588\\appdata\\local\\packages\\pythonsoftwarefoundation.python.3.12_qbz5n2kfra8p0\\localcache\\local-packages\\python312\\site-packages (from spacy) (75.1.0)\n",
      "Requirement already satisfied: packaging>=20.0 in c:\\users\\c289588\\appdata\\local\\packages\\pythonsoftwarefoundation.python.3.12_qbz5n2kfra8p0\\localcache\\local-packages\\python312\\site-packages (from spacy) (24.1)\n",
      "Requirement already satisfied: langcodes<4.0.0,>=3.2.0 in c:\\users\\c289588\\appdata\\local\\packages\\pythonsoftwarefoundation.python.3.12_qbz5n2kfra8p0\\localcache\\local-packages\\python312\\site-packages (from spacy) (3.4.1)\n",
      "Requirement already satisfied: numpy>=1.19.0 in c:\\users\\c289588\\appdata\\local\\packages\\pythonsoftwarefoundation.python.3.12_qbz5n2kfra8p0\\localcache\\local-packages\\python312\\site-packages (from spacy) (1.26.4)\n",
      "Requirement already satisfied: language-data>=1.2 in c:\\users\\c289588\\appdata\\local\\packages\\pythonsoftwarefoundation.python.3.12_qbz5n2kfra8p0\\localcache\\local-packages\\python312\\site-packages (from langcodes<4.0.0,>=3.2.0->spacy) (1.2.0)\n",
      "Requirement already satisfied: annotated-types>=0.4.0 in c:\\users\\c289588\\appdata\\local\\packages\\pythonsoftwarefoundation.python.3.12_qbz5n2kfra8p0\\localcache\\local-packages\\python312\\site-packages (from pydantic!=1.8,!=1.8.1,<3.0.0,>=1.7.4->spacy) (0.7.0)\n",
      "Requirement already satisfied: pydantic-core==2.18.4 in c:\\users\\c289588\\appdata\\local\\packages\\pythonsoftwarefoundation.python.3.12_qbz5n2kfra8p0\\localcache\\local-packages\\python312\\site-packages (from pydantic!=1.8,!=1.8.1,<3.0.0,>=1.7.4->spacy) (2.18.4)\n",
      "Requirement already satisfied: typing-extensions>=4.6.1 in c:\\users\\c289588\\appdata\\local\\packages\\pythonsoftwarefoundation.python.3.12_qbz5n2kfra8p0\\localcache\\local-packages\\python312\\site-packages (from pydantic!=1.8,!=1.8.1,<3.0.0,>=1.7.4->spacy) (4.12.2)\n",
      "Requirement already satisfied: charset-normalizer<4,>=2 in c:\\users\\c289588\\appdata\\local\\packages\\pythonsoftwarefoundation.python.3.12_qbz5n2kfra8p0\\localcache\\local-packages\\python312\\site-packages (from requests<3.0.0,>=2.13.0->spacy) (3.3.2)\n",
      "Requirement already satisfied: idna<4,>=2.5 in c:\\users\\c289588\\appdata\\local\\packages\\pythonsoftwarefoundation.python.3.12_qbz5n2kfra8p0\\localcache\\local-packages\\python312\\site-packages (from requests<3.0.0,>=2.13.0->spacy) (3.7)\n",
      "Requirement already satisfied: urllib3<3,>=1.21.1 in c:\\users\\c289588\\appdata\\local\\packages\\pythonsoftwarefoundation.python.3.12_qbz5n2kfra8p0\\localcache\\local-packages\\python312\\site-packages (from requests<3.0.0,>=2.13.0->spacy) (2.2.2)\n",
      "Requirement already satisfied: certifi>=2017.4.17 in c:\\users\\c289588\\appdata\\local\\packages\\pythonsoftwarefoundation.python.3.12_qbz5n2kfra8p0\\localcache\\local-packages\\python312\\site-packages (from requests<3.0.0,>=2.13.0->spacy) (2024.6.2)\n",
      "Requirement already satisfied: blis<0.8.0,>=0.7.8 in c:\\users\\c289588\\appdata\\local\\packages\\pythonsoftwarefoundation.python.3.12_qbz5n2kfra8p0\\localcache\\local-packages\\python312\\site-packages (from thinc<8.3.0,>=8.2.2->spacy) (0.7.11)\n",
      "Requirement already satisfied: confection<1.0.0,>=0.0.1 in c:\\users\\c289588\\appdata\\local\\packages\\pythonsoftwarefoundation.python.3.12_qbz5n2kfra8p0\\localcache\\local-packages\\python312\\site-packages (from thinc<8.3.0,>=8.2.2->spacy) (0.1.5)\n",
      "Requirement already satisfied: colorama in c:\\users\\c289588\\appdata\\local\\packages\\pythonsoftwarefoundation.python.3.12_qbz5n2kfra8p0\\localcache\\local-packages\\python312\\site-packages (from tqdm<5.0.0,>=4.38.0->spacy) (0.4.6)\n",
      "Requirement already satisfied: click>=8.0.0 in c:\\users\\c289588\\appdata\\local\\packages\\pythonsoftwarefoundation.python.3.12_qbz5n2kfra8p0\\localcache\\local-packages\\python312\\site-packages (from typer<1.0.0,>=0.3.0->spacy) (8.1.7)\n",
      "Requirement already satisfied: shellingham>=1.3.0 in c:\\users\\c289588\\appdata\\local\\packages\\pythonsoftwarefoundation.python.3.12_qbz5n2kfra8p0\\localcache\\local-packages\\python312\\site-packages (from typer<1.0.0,>=0.3.0->spacy) (1.5.4)\n",
      "Requirement already satisfied: rich>=10.11.0 in c:\\users\\c289588\\appdata\\local\\packages\\pythonsoftwarefoundation.python.3.12_qbz5n2kfra8p0\\localcache\\local-packages\\python312\\site-packages (from typer<1.0.0,>=0.3.0->spacy) (13.7.1)\n",
      "Requirement already satisfied: cloudpathlib<1.0.0,>=0.7.0 in c:\\users\\c289588\\appdata\\local\\packages\\pythonsoftwarefoundation.python.3.12_qbz5n2kfra8p0\\localcache\\local-packages\\python312\\site-packages (from weasel<0.5.0,>=0.1.0->spacy) (0.19.0)\n",
      "Requirement already satisfied: smart-open<8.0.0,>=5.2.1 in c:\\users\\c289588\\appdata\\local\\packages\\pythonsoftwarefoundation.python.3.12_qbz5n2kfra8p0\\localcache\\local-packages\\python312\\site-packages (from weasel<0.5.0,>=0.1.0->spacy) (7.0.4)\n",
      "Requirement already satisfied: MarkupSafe>=2.0 in c:\\users\\c289588\\appdata\\local\\packages\\pythonsoftwarefoundation.python.3.12_qbz5n2kfra8p0\\localcache\\local-packages\\python312\\site-packages (from jinja2->spacy) (2.1.5)\n",
      "Requirement already satisfied: marisa-trie>=0.7.7 in c:\\users\\c289588\\appdata\\local\\packages\\pythonsoftwarefoundation.python.3.12_qbz5n2kfra8p0\\localcache\\local-packages\\python312\\site-packages (from language-data>=1.2->langcodes<4.0.0,>=3.2.0->spacy) (1.2.0)\n",
      "Requirement already satisfied: markdown-it-py>=2.2.0 in c:\\users\\c289588\\appdata\\local\\packages\\pythonsoftwarefoundation.python.3.12_qbz5n2kfra8p0\\localcache\\local-packages\\python312\\site-packages (from rich>=10.11.0->typer<1.0.0,>=0.3.0->spacy) (3.0.0)\n",
      "Requirement already satisfied: pygments<3.0.0,>=2.13.0 in c:\\users\\c289588\\appdata\\local\\packages\\pythonsoftwarefoundation.python.3.12_qbz5n2kfra8p0\\localcache\\local-packages\\python312\\site-packages (from rich>=10.11.0->typer<1.0.0,>=0.3.0->spacy) (2.18.0)\n",
      "Requirement already satisfied: wrapt in c:\\users\\c289588\\appdata\\local\\packages\\pythonsoftwarefoundation.python.3.12_qbz5n2kfra8p0\\localcache\\local-packages\\python312\\site-packages (from smart-open<8.0.0,>=5.2.1->weasel<0.5.0,>=0.1.0->spacy) (1.16.0)\n",
      "Requirement already satisfied: mdurl~=0.1 in c:\\users\\c289588\\appdata\\local\\packages\\pythonsoftwarefoundation.python.3.12_qbz5n2kfra8p0\\localcache\\local-packages\\python312\\site-packages (from markdown-it-py>=2.2.0->rich>=10.11.0->typer<1.0.0,>=0.3.0->spacy) (0.1.2)\n"
     ]
    }
   ],
   "source": [
    "!pip install spacy"
   ]
  },
  {
   "cell_type": "code",
   "execution_count": 43,
   "metadata": {},
   "outputs": [
    {
     "name": "stdout",
     "output_type": "stream",
     "text": [
      "Defaulting to user installation because normal site-packages is not writeable\n",
      "Collecting en-core-web-sm==3.7.1\n",
      "  Downloading https://github.com/explosion/spacy-models/releases/download/en_core_web_sm-3.7.1/en_core_web_sm-3.7.1-py3-none-any.whl (12.8 MB)\n",
      "     ---------------------------------------- 0.0/12.8 MB ? eta -:--:--\n",
      "      --------------------------------------- 0.3/12.8 MB ? eta -:--:--\n",
      "     ---- ----------------------------------- 1.3/12.8 MB 4.5 MB/s eta 0:00:03\n",
      "     --------- ------------------------------ 3.1/12.8 MB 6.1 MB/s eta 0:00:02\n",
      "     ----------------- ---------------------- 5.5/12.8 MB 7.8 MB/s eta 0:00:01\n",
      "     --------------------------- ------------ 8.7/12.8 MB 9.4 MB/s eta 0:00:01\n",
      "     ------------------------------------ -- 12.1/12.8 MB 10.9 MB/s eta 0:00:01\n",
      "     ------------------------------------ -- 12.1/12.8 MB 10.9 MB/s eta 0:00:01\n",
      "     ------------------------------------ -- 12.1/12.8 MB 10.9 MB/s eta 0:00:01\n",
      "     ------------------------------------ -- 12.1/12.8 MB 10.9 MB/s eta 0:00:01\n",
      "     ------------------------------------ -- 12.1/12.8 MB 10.9 MB/s eta 0:00:01\n",
      "     ------------------------------------ -- 12.1/12.8 MB 10.9 MB/s eta 0:00:01\n",
      "     ------------------------------------ -- 12.1/12.8 MB 10.9 MB/s eta 0:00:01\n",
      "     -------------------------------------- - 12.3/12.8 MB 4.7 MB/s eta 0:00:01\n",
      "     -------------------------------------- - 12.3/12.8 MB 4.7 MB/s eta 0:00:01\n",
      "     -------------------------------------- - 12.3/12.8 MB 4.7 MB/s eta 0:00:01\n",
      "     ---------------------------------------- 12.8/12.8 MB 3.9 MB/s eta 0:00:00\n",
      "Requirement already satisfied: spacy<3.8.0,>=3.7.2 in c:\\users\\c289588\\appdata\\local\\packages\\pythonsoftwarefoundation.python.3.12_qbz5n2kfra8p0\\localcache\\local-packages\\python312\\site-packages (from en-core-web-sm==3.7.1) (3.7.6)\n",
      "Requirement already satisfied: spacy-legacy<3.1.0,>=3.0.11 in c:\\users\\c289588\\appdata\\local\\packages\\pythonsoftwarefoundation.python.3.12_qbz5n2kfra8p0\\localcache\\local-packages\\python312\\site-packages (from spacy<3.8.0,>=3.7.2->en-core-web-sm==3.7.1) (3.0.12)\n",
      "Requirement already satisfied: spacy-loggers<2.0.0,>=1.0.0 in c:\\users\\c289588\\appdata\\local\\packages\\pythonsoftwarefoundation.python.3.12_qbz5n2kfra8p0\\localcache\\local-packages\\python312\\site-packages (from spacy<3.8.0,>=3.7.2->en-core-web-sm==3.7.1) (1.0.5)\n",
      "Requirement already satisfied: murmurhash<1.1.0,>=0.28.0 in c:\\users\\c289588\\appdata\\local\\packages\\pythonsoftwarefoundation.python.3.12_qbz5n2kfra8p0\\localcache\\local-packages\\python312\\site-packages (from spacy<3.8.0,>=3.7.2->en-core-web-sm==3.7.1) (1.0.10)\n",
      "Requirement already satisfied: cymem<2.1.0,>=2.0.2 in c:\\users\\c289588\\appdata\\local\\packages\\pythonsoftwarefoundation.python.3.12_qbz5n2kfra8p0\\localcache\\local-packages\\python312\\site-packages (from spacy<3.8.0,>=3.7.2->en-core-web-sm==3.7.1) (2.0.8)\n",
      "Requirement already satisfied: preshed<3.1.0,>=3.0.2 in c:\\users\\c289588\\appdata\\local\\packages\\pythonsoftwarefoundation.python.3.12_qbz5n2kfra8p0\\localcache\\local-packages\\python312\\site-packages (from spacy<3.8.0,>=3.7.2->en-core-web-sm==3.7.1) (3.0.9)\n",
      "Requirement already satisfied: thinc<8.3.0,>=8.2.2 in c:\\users\\c289588\\appdata\\local\\packages\\pythonsoftwarefoundation.python.3.12_qbz5n2kfra8p0\\localcache\\local-packages\\python312\\site-packages (from spacy<3.8.0,>=3.7.2->en-core-web-sm==3.7.1) (8.2.5)\n",
      "Requirement already satisfied: wasabi<1.2.0,>=0.9.1 in c:\\users\\c289588\\appdata\\local\\packages\\pythonsoftwarefoundation.python.3.12_qbz5n2kfra8p0\\localcache\\local-packages\\python312\\site-packages (from spacy<3.8.0,>=3.7.2->en-core-web-sm==3.7.1) (1.1.3)\n",
      "Requirement already satisfied: srsly<3.0.0,>=2.4.3 in c:\\users\\c289588\\appdata\\local\\packages\\pythonsoftwarefoundation.python.3.12_qbz5n2kfra8p0\\localcache\\local-packages\\python312\\site-packages (from spacy<3.8.0,>=3.7.2->en-core-web-sm==3.7.1) (2.4.8)\n",
      "Requirement already satisfied: catalogue<2.1.0,>=2.0.6 in c:\\users\\c289588\\appdata\\local\\packages\\pythonsoftwarefoundation.python.3.12_qbz5n2kfra8p0\\localcache\\local-packages\\python312\\site-packages (from spacy<3.8.0,>=3.7.2->en-core-web-sm==3.7.1) (2.0.10)\n",
      "Requirement already satisfied: weasel<0.5.0,>=0.1.0 in c:\\users\\c289588\\appdata\\local\\packages\\pythonsoftwarefoundation.python.3.12_qbz5n2kfra8p0\\localcache\\local-packages\\python312\\site-packages (from spacy<3.8.0,>=3.7.2->en-core-web-sm==3.7.1) (0.4.1)\n",
      "Requirement already satisfied: typer<1.0.0,>=0.3.0 in c:\\users\\c289588\\appdata\\local\\packages\\pythonsoftwarefoundation.python.3.12_qbz5n2kfra8p0\\localcache\\local-packages\\python312\\site-packages (from spacy<3.8.0,>=3.7.2->en-core-web-sm==3.7.1) (0.12.3)\n",
      "Requirement already satisfied: tqdm<5.0.0,>=4.38.0 in c:\\users\\c289588\\appdata\\local\\packages\\pythonsoftwarefoundation.python.3.12_qbz5n2kfra8p0\\localcache\\local-packages\\python312\\site-packages (from spacy<3.8.0,>=3.7.2->en-core-web-sm==3.7.1) (4.66.4)\n",
      "Requirement already satisfied: requests<3.0.0,>=2.13.0 in c:\\users\\c289588\\appdata\\local\\packages\\pythonsoftwarefoundation.python.3.12_qbz5n2kfra8p0\\localcache\\local-packages\\python312\\site-packages (from spacy<3.8.0,>=3.7.2->en-core-web-sm==3.7.1) (2.32.3)\n",
      "Requirement already satisfied: pydantic!=1.8,!=1.8.1,<3.0.0,>=1.7.4 in c:\\users\\c289588\\appdata\\local\\packages\\pythonsoftwarefoundation.python.3.12_qbz5n2kfra8p0\\localcache\\local-packages\\python312\\site-packages (from spacy<3.8.0,>=3.7.2->en-core-web-sm==3.7.1) (2.7.4)\n",
      "Requirement already satisfied: jinja2 in c:\\users\\c289588\\appdata\\local\\packages\\pythonsoftwarefoundation.python.3.12_qbz5n2kfra8p0\\localcache\\local-packages\\python312\\site-packages (from spacy<3.8.0,>=3.7.2->en-core-web-sm==3.7.1) (3.1.4)\n",
      "Requirement already satisfied: setuptools in c:\\users\\c289588\\appdata\\local\\packages\\pythonsoftwarefoundation.python.3.12_qbz5n2kfra8p0\\localcache\\local-packages\\python312\\site-packages (from spacy<3.8.0,>=3.7.2->en-core-web-sm==3.7.1) (75.1.0)\n",
      "Requirement already satisfied: packaging>=20.0 in c:\\users\\c289588\\appdata\\local\\packages\\pythonsoftwarefoundation.python.3.12_qbz5n2kfra8p0\\localcache\\local-packages\\python312\\site-packages (from spacy<3.8.0,>=3.7.2->en-core-web-sm==3.7.1) (24.1)\n",
      "Requirement already satisfied: langcodes<4.0.0,>=3.2.0 in c:\\users\\c289588\\appdata\\local\\packages\\pythonsoftwarefoundation.python.3.12_qbz5n2kfra8p0\\localcache\\local-packages\\python312\\site-packages (from spacy<3.8.0,>=3.7.2->en-core-web-sm==3.7.1) (3.4.1)\n",
      "Requirement already satisfied: numpy>=1.19.0 in c:\\users\\c289588\\appdata\\local\\packages\\pythonsoftwarefoundation.python.3.12_qbz5n2kfra8p0\\localcache\\local-packages\\python312\\site-packages (from spacy<3.8.0,>=3.7.2->en-core-web-sm==3.7.1) (1.26.4)\n",
      "Requirement already satisfied: language-data>=1.2 in c:\\users\\c289588\\appdata\\local\\packages\\pythonsoftwarefoundation.python.3.12_qbz5n2kfra8p0\\localcache\\local-packages\\python312\\site-packages (from langcodes<4.0.0,>=3.2.0->spacy<3.8.0,>=3.7.2->en-core-web-sm==3.7.1) (1.2.0)\n",
      "Requirement already satisfied: annotated-types>=0.4.0 in c:\\users\\c289588\\appdata\\local\\packages\\pythonsoftwarefoundation.python.3.12_qbz5n2kfra8p0\\localcache\\local-packages\\python312\\site-packages (from pydantic!=1.8,!=1.8.1,<3.0.0,>=1.7.4->spacy<3.8.0,>=3.7.2->en-core-web-sm==3.7.1) (0.7.0)\n",
      "Requirement already satisfied: pydantic-core==2.18.4 in c:\\users\\c289588\\appdata\\local\\packages\\pythonsoftwarefoundation.python.3.12_qbz5n2kfra8p0\\localcache\\local-packages\\python312\\site-packages (from pydantic!=1.8,!=1.8.1,<3.0.0,>=1.7.4->spacy<3.8.0,>=3.7.2->en-core-web-sm==3.7.1) (2.18.4)\n",
      "Requirement already satisfied: typing-extensions>=4.6.1 in c:\\users\\c289588\\appdata\\local\\packages\\pythonsoftwarefoundation.python.3.12_qbz5n2kfra8p0\\localcache\\local-packages\\python312\\site-packages (from pydantic!=1.8,!=1.8.1,<3.0.0,>=1.7.4->spacy<3.8.0,>=3.7.2->en-core-web-sm==3.7.1) (4.12.2)\n",
      "Requirement already satisfied: charset-normalizer<4,>=2 in c:\\users\\c289588\\appdata\\local\\packages\\pythonsoftwarefoundation.python.3.12_qbz5n2kfra8p0\\localcache\\local-packages\\python312\\site-packages (from requests<3.0.0,>=2.13.0->spacy<3.8.0,>=3.7.2->en-core-web-sm==3.7.1) (3.3.2)\n",
      "Requirement already satisfied: idna<4,>=2.5 in c:\\users\\c289588\\appdata\\local\\packages\\pythonsoftwarefoundation.python.3.12_qbz5n2kfra8p0\\localcache\\local-packages\\python312\\site-packages (from requests<3.0.0,>=2.13.0->spacy<3.8.0,>=3.7.2->en-core-web-sm==3.7.1) (3.7)\n",
      "Requirement already satisfied: urllib3<3,>=1.21.1 in c:\\users\\c289588\\appdata\\local\\packages\\pythonsoftwarefoundation.python.3.12_qbz5n2kfra8p0\\localcache\\local-packages\\python312\\site-packages (from requests<3.0.0,>=2.13.0->spacy<3.8.0,>=3.7.2->en-core-web-sm==3.7.1) (2.2.2)\n",
      "Requirement already satisfied: certifi>=2017.4.17 in c:\\users\\c289588\\appdata\\local\\packages\\pythonsoftwarefoundation.python.3.12_qbz5n2kfra8p0\\localcache\\local-packages\\python312\\site-packages (from requests<3.0.0,>=2.13.0->spacy<3.8.0,>=3.7.2->en-core-web-sm==3.7.1) (2024.6.2)\n",
      "Requirement already satisfied: blis<0.8.0,>=0.7.8 in c:\\users\\c289588\\appdata\\local\\packages\\pythonsoftwarefoundation.python.3.12_qbz5n2kfra8p0\\localcache\\local-packages\\python312\\site-packages (from thinc<8.3.0,>=8.2.2->spacy<3.8.0,>=3.7.2->en-core-web-sm==3.7.1) (0.7.11)\n",
      "Requirement already satisfied: confection<1.0.0,>=0.0.1 in c:\\users\\c289588\\appdata\\local\\packages\\pythonsoftwarefoundation.python.3.12_qbz5n2kfra8p0\\localcache\\local-packages\\python312\\site-packages (from thinc<8.3.0,>=8.2.2->spacy<3.8.0,>=3.7.2->en-core-web-sm==3.7.1) (0.1.5)\n",
      "Requirement already satisfied: colorama in c:\\users\\c289588\\appdata\\local\\packages\\pythonsoftwarefoundation.python.3.12_qbz5n2kfra8p0\\localcache\\local-packages\\python312\\site-packages (from tqdm<5.0.0,>=4.38.0->spacy<3.8.0,>=3.7.2->en-core-web-sm==3.7.1) (0.4.6)\n",
      "Requirement already satisfied: click>=8.0.0 in c:\\users\\c289588\\appdata\\local\\packages\\pythonsoftwarefoundation.python.3.12_qbz5n2kfra8p0\\localcache\\local-packages\\python312\\site-packages (from typer<1.0.0,>=0.3.0->spacy<3.8.0,>=3.7.2->en-core-web-sm==3.7.1) (8.1.7)\n",
      "Requirement already satisfied: shellingham>=1.3.0 in c:\\users\\c289588\\appdata\\local\\packages\\pythonsoftwarefoundation.python.3.12_qbz5n2kfra8p0\\localcache\\local-packages\\python312\\site-packages (from typer<1.0.0,>=0.3.0->spacy<3.8.0,>=3.7.2->en-core-web-sm==3.7.1) (1.5.4)\n",
      "Requirement already satisfied: rich>=10.11.0 in c:\\users\\c289588\\appdata\\local\\packages\\pythonsoftwarefoundation.python.3.12_qbz5n2kfra8p0\\localcache\\local-packages\\python312\\site-packages (from typer<1.0.0,>=0.3.0->spacy<3.8.0,>=3.7.2->en-core-web-sm==3.7.1) (13.7.1)\n",
      "Requirement already satisfied: cloudpathlib<1.0.0,>=0.7.0 in c:\\users\\c289588\\appdata\\local\\packages\\pythonsoftwarefoundation.python.3.12_qbz5n2kfra8p0\\localcache\\local-packages\\python312\\site-packages (from weasel<0.5.0,>=0.1.0->spacy<3.8.0,>=3.7.2->en-core-web-sm==3.7.1) (0.19.0)\n",
      "Requirement already satisfied: smart-open<8.0.0,>=5.2.1 in c:\\users\\c289588\\appdata\\local\\packages\\pythonsoftwarefoundation.python.3.12_qbz5n2kfra8p0\\localcache\\local-packages\\python312\\site-packages (from weasel<0.5.0,>=0.1.0->spacy<3.8.0,>=3.7.2->en-core-web-sm==3.7.1) (7.0.4)\n",
      "Requirement already satisfied: MarkupSafe>=2.0 in c:\\users\\c289588\\appdata\\local\\packages\\pythonsoftwarefoundation.python.3.12_qbz5n2kfra8p0\\localcache\\local-packages\\python312\\site-packages (from jinja2->spacy<3.8.0,>=3.7.2->en-core-web-sm==3.7.1) (2.1.5)\n",
      "Requirement already satisfied: marisa-trie>=0.7.7 in c:\\users\\c289588\\appdata\\local\\packages\\pythonsoftwarefoundation.python.3.12_qbz5n2kfra8p0\\localcache\\local-packages\\python312\\site-packages (from language-data>=1.2->langcodes<4.0.0,>=3.2.0->spacy<3.8.0,>=3.7.2->en-core-web-sm==3.7.1) (1.2.0)\n",
      "Requirement already satisfied: markdown-it-py>=2.2.0 in c:\\users\\c289588\\appdata\\local\\packages\\pythonsoftwarefoundation.python.3.12_qbz5n2kfra8p0\\localcache\\local-packages\\python312\\site-packages (from rich>=10.11.0->typer<1.0.0,>=0.3.0->spacy<3.8.0,>=3.7.2->en-core-web-sm==3.7.1) (3.0.0)\n",
      "Requirement already satisfied: pygments<3.0.0,>=2.13.0 in c:\\users\\c289588\\appdata\\local\\packages\\pythonsoftwarefoundation.python.3.12_qbz5n2kfra8p0\\localcache\\local-packages\\python312\\site-packages (from rich>=10.11.0->typer<1.0.0,>=0.3.0->spacy<3.8.0,>=3.7.2->en-core-web-sm==3.7.1) (2.18.0)\n",
      "Requirement already satisfied: wrapt in c:\\users\\c289588\\appdata\\local\\packages\\pythonsoftwarefoundation.python.3.12_qbz5n2kfra8p0\\localcache\\local-packages\\python312\\site-packages (from smart-open<8.0.0,>=5.2.1->weasel<0.5.0,>=0.1.0->spacy<3.8.0,>=3.7.2->en-core-web-sm==3.7.1) (1.16.0)\n",
      "Requirement already satisfied: mdurl~=0.1 in c:\\users\\c289588\\appdata\\local\\packages\\pythonsoftwarefoundation.python.3.12_qbz5n2kfra8p0\\localcache\\local-packages\\python312\\site-packages (from markdown-it-py>=2.2.0->rich>=10.11.0->typer<1.0.0,>=0.3.0->spacy<3.8.0,>=3.7.2->en-core-web-sm==3.7.1) (0.1.2)\n",
      "\u001b[38;5;2m✔ Download and installation successful\u001b[0m\n",
      "You can now load the package via spacy.load('en_core_web_sm')\n"
     ]
    }
   ],
   "source": [
    "!python -m spacy download en_core_web_sm"
   ]
  },
  {
   "cell_type": "code",
   "execution_count": 70,
   "metadata": {},
   "outputs": [],
   "source": [
    "import spacy\n",
    "\n",
    "nlp = spacy.load('en_core_web_sm')\n",
    "\n",
    "def spacy_address(text):\n",
    "    text = str(text)\n",
    "    doc = nlp(text)\n",
    "    address = []\n",
    "    for entity in doc.ents:\n",
    "      if entity.label_ in ['ORG', 'FAC', 'GPE'] :\n",
    "         address.append(entity.text)\n",
    "    return address\n",
    "data[\"address\"] = data['Lilly_User_Input_Text_1__c'].apply(spacy_address)"
   ]
  },
  {
   "cell_type": "code",
   "execution_count": 71,
   "metadata": {},
   "outputs": [],
   "source": [
    "data.to_csv(\"address_check.csv\")"
   ]
  },
  {
   "cell_type": "code",
   "execution_count": 56,
   "metadata": {},
   "outputs": [
    {
     "name": "stdout",
     "output_type": "stream",
     "text": [
      "Hey Sarah, you should stop by David's Bakery on Main Street for some fresh bread.\n",
      "If you're in the mood for a treat, head over to Sarah's Café on Oak Avenue – they have the best pastries, David!\n",
      "I recommend you take your car to John's Auto Repair on Maple Road, Michael, if it needs servicing.\n",
      "John's Auto Repair on Maple Road\n",
      "How about we meet at Emily's Bookstore near the park to grab some new books, Linda?\n",
      "Emily's Bookstore\n",
      "You should check out Rachel's Floral Shop on River Drive, Jessica – they have gorgeous flowers.\n",
      "Rachel's Floral Shop on River Drive\n",
      "I heard Tom's Electronics on Elm Street is having a big sale this weekend, Robert. You might want to visit!\n",
      "Tom's Electronics\n",
      "Elm Street\n",
      "If you need any alterations, Mike's Tailoring on the corner of 5th and Pine is the place to go, Mark.\n",
      "Pine\n",
      "I bet you'd love Laura's Boutique on Queen's Lane, Emma. They have some really stylish clothes.\n",
      "Laura's Boutique on Queen's Lane, Emma\n",
      "You should grab a coffee at Anna's Espresso Bar on Broadway next time you're in the area, Jake.\n",
      "Anna's\n",
      "Broadway\n",
      "If you're looking for a new gym, Jack's Gym on 2nd Avenue just opened a fantastic fitness center, Olivia.\n",
      "2nd Avenue\n",
      "Olivia\n",
      "Hi Nicole, Hope you are having a great week so far! I wanted to reach out and see if you were interested in attending our upcoming program at Jay's Bistro. Dr. Ammon Larsen will be presenting and answering questions, valuable resources. Please see below for program location and information. Hope to see you there!   Date and time: Thursday, June 29, 2023 6:30 PM Location: Jay's Bistro 135 West Oak Street Fort Collins, CO\n",
      "Jay's Bistro\n",
      "Bistro\n",
      "West Oak\n",
      "CO\n"
     ]
    }
   ],
   "source": [
    "import spacy\n",
    "\n",
    "nlp = spacy.load('en_core_web_sm')\n",
    "\n",
    "#text = \"I love traveling to Paris and London. I also enjoy visiting Sydney.\"\n",
    "for i in text:\n",
    "   print(i)\n",
    "   doc = nlp(i)\n",
    "\n",
    "   for entity in doc.ents:\n",
    "      #print(entity.label_)\n",
    "      if entity.label_ in ['ORG', 'FAC', 'GPE'] :\n",
    "         print(entity.text)"
   ]
  },
  {
   "cell_type": "markdown",
   "metadata": {},
   "source": [
    "TRANSFORMERS"
   ]
  },
  {
   "cell_type": "code",
   "execution_count": 47,
   "metadata": {},
   "outputs": [
    {
     "name": "stdout",
     "output_type": "stream",
     "text": [
      "Defaulting to user installation because normal site-packages is not writeable\n",
      "Requirement already satisfied: transformers in c:\\users\\c289588\\appdata\\local\\packages\\pythonsoftwarefoundation.python.3.12_qbz5n2kfra8p0\\localcache\\local-packages\\python312\\site-packages (4.48.0)\n",
      "Requirement already satisfied: filelock in c:\\users\\c289588\\appdata\\local\\packages\\pythonsoftwarefoundation.python.3.12_qbz5n2kfra8p0\\localcache\\local-packages\\python312\\site-packages (from transformers) (3.16.1)\n",
      "Requirement already satisfied: huggingface-hub<1.0,>=0.24.0 in c:\\users\\c289588\\appdata\\local\\packages\\pythonsoftwarefoundation.python.3.12_qbz5n2kfra8p0\\localcache\\local-packages\\python312\\site-packages (from transformers) (0.26.2)\n",
      "Requirement already satisfied: numpy>=1.17 in c:\\users\\c289588\\appdata\\local\\packages\\pythonsoftwarefoundation.python.3.12_qbz5n2kfra8p0\\localcache\\local-packages\\python312\\site-packages (from transformers) (1.26.4)\n",
      "Requirement already satisfied: packaging>=20.0 in c:\\users\\c289588\\appdata\\local\\packages\\pythonsoftwarefoundation.python.3.12_qbz5n2kfra8p0\\localcache\\local-packages\\python312\\site-packages (from transformers) (24.1)\n",
      "Requirement already satisfied: pyyaml>=5.1 in c:\\users\\c289588\\appdata\\local\\packages\\pythonsoftwarefoundation.python.3.12_qbz5n2kfra8p0\\localcache\\local-packages\\python312\\site-packages (from transformers) (6.0.1)\n",
      "Requirement already satisfied: regex!=2019.12.17 in c:\\users\\c289588\\appdata\\local\\packages\\pythonsoftwarefoundation.python.3.12_qbz5n2kfra8p0\\localcache\\local-packages\\python312\\site-packages (from transformers) (2024.5.15)\n",
      "Requirement already satisfied: requests in c:\\users\\c289588\\appdata\\local\\packages\\pythonsoftwarefoundation.python.3.12_qbz5n2kfra8p0\\localcache\\local-packages\\python312\\site-packages (from transformers) (2.32.3)\n",
      "Requirement already satisfied: tokenizers<0.22,>=0.21 in c:\\users\\c289588\\appdata\\local\\packages\\pythonsoftwarefoundation.python.3.12_qbz5n2kfra8p0\\localcache\\local-packages\\python312\\site-packages (from transformers) (0.21.0)\n",
      "Requirement already satisfied: safetensors>=0.4.1 in c:\\users\\c289588\\appdata\\local\\packages\\pythonsoftwarefoundation.python.3.12_qbz5n2kfra8p0\\localcache\\local-packages\\python312\\site-packages (from transformers) (0.4.5)\n",
      "Requirement already satisfied: tqdm>=4.27 in c:\\users\\c289588\\appdata\\local\\packages\\pythonsoftwarefoundation.python.3.12_qbz5n2kfra8p0\\localcache\\local-packages\\python312\\site-packages (from transformers) (4.66.4)\n",
      "Requirement already satisfied: fsspec>=2023.5.0 in c:\\users\\c289588\\appdata\\local\\packages\\pythonsoftwarefoundation.python.3.12_qbz5n2kfra8p0\\localcache\\local-packages\\python312\\site-packages (from huggingface-hub<1.0,>=0.24.0->transformers) (2024.10.0)\n",
      "Requirement already satisfied: typing-extensions>=3.7.4.3 in c:\\users\\c289588\\appdata\\local\\packages\\pythonsoftwarefoundation.python.3.12_qbz5n2kfra8p0\\localcache\\local-packages\\python312\\site-packages (from huggingface-hub<1.0,>=0.24.0->transformers) (4.12.2)\n",
      "Requirement already satisfied: colorama in c:\\users\\c289588\\appdata\\local\\packages\\pythonsoftwarefoundation.python.3.12_qbz5n2kfra8p0\\localcache\\local-packages\\python312\\site-packages (from tqdm>=4.27->transformers) (0.4.6)\n",
      "Requirement already satisfied: charset-normalizer<4,>=2 in c:\\users\\c289588\\appdata\\local\\packages\\pythonsoftwarefoundation.python.3.12_qbz5n2kfra8p0\\localcache\\local-packages\\python312\\site-packages (from requests->transformers) (3.3.2)\n",
      "Requirement already satisfied: idna<4,>=2.5 in c:\\users\\c289588\\appdata\\local\\packages\\pythonsoftwarefoundation.python.3.12_qbz5n2kfra8p0\\localcache\\local-packages\\python312\\site-packages (from requests->transformers) (3.7)\n",
      "Requirement already satisfied: urllib3<3,>=1.21.1 in c:\\users\\c289588\\appdata\\local\\packages\\pythonsoftwarefoundation.python.3.12_qbz5n2kfra8p0\\localcache\\local-packages\\python312\\site-packages (from requests->transformers) (2.2.2)\n",
      "Requirement already satisfied: certifi>=2017.4.17 in c:\\users\\c289588\\appdata\\local\\packages\\pythonsoftwarefoundation.python.3.12_qbz5n2kfra8p0\\localcache\\local-packages\\python312\\site-packages (from requests->transformers) (2024.6.2)\n",
      "Defaulting to user installation because normal site-packages is not writeable\n",
      "Requirement already satisfied: torch in c:\\users\\c289588\\appdata\\local\\packages\\pythonsoftwarefoundation.python.3.12_qbz5n2kfra8p0\\localcache\\local-packages\\python312\\site-packages (2.5.1)\n",
      "Requirement already satisfied: filelock in c:\\users\\c289588\\appdata\\local\\packages\\pythonsoftwarefoundation.python.3.12_qbz5n2kfra8p0\\localcache\\local-packages\\python312\\site-packages (from torch) (3.16.1)\n",
      "Requirement already satisfied: typing-extensions>=4.8.0 in c:\\users\\c289588\\appdata\\local\\packages\\pythonsoftwarefoundation.python.3.12_qbz5n2kfra8p0\\localcache\\local-packages\\python312\\site-packages (from torch) (4.12.2)\n",
      "Requirement already satisfied: networkx in c:\\users\\c289588\\appdata\\local\\packages\\pythonsoftwarefoundation.python.3.12_qbz5n2kfra8p0\\localcache\\local-packages\\python312\\site-packages (from torch) (3.4.2)\n",
      "Requirement already satisfied: jinja2 in c:\\users\\c289588\\appdata\\local\\packages\\pythonsoftwarefoundation.python.3.12_qbz5n2kfra8p0\\localcache\\local-packages\\python312\\site-packages (from torch) (3.1.4)\n",
      "Requirement already satisfied: fsspec in c:\\users\\c289588\\appdata\\local\\packages\\pythonsoftwarefoundation.python.3.12_qbz5n2kfra8p0\\localcache\\local-packages\\python312\\site-packages (from torch) (2024.10.0)\n",
      "Requirement already satisfied: setuptools in c:\\users\\c289588\\appdata\\local\\packages\\pythonsoftwarefoundation.python.3.12_qbz5n2kfra8p0\\localcache\\local-packages\\python312\\site-packages (from torch) (75.1.0)\n",
      "Requirement already satisfied: sympy==1.13.1 in c:\\users\\c289588\\appdata\\local\\packages\\pythonsoftwarefoundation.python.3.12_qbz5n2kfra8p0\\localcache\\local-packages\\python312\\site-packages (from torch) (1.13.1)\n",
      "Requirement already satisfied: mpmath<1.4,>=1.1.0 in c:\\users\\c289588\\appdata\\local\\packages\\pythonsoftwarefoundation.python.3.12_qbz5n2kfra8p0\\localcache\\local-packages\\python312\\site-packages (from sympy==1.13.1->torch) (1.3.0)\n",
      "Requirement already satisfied: MarkupSafe>=2.0 in c:\\users\\c289588\\appdata\\local\\packages\\pythonsoftwarefoundation.python.3.12_qbz5n2kfra8p0\\localcache\\local-packages\\python312\\site-packages (from jinja2->torch) (2.1.5)\n"
     ]
    }
   ],
   "source": [
    "!pip install transformers\n",
    "!pip install torch"
   ]
  },
  {
   "cell_type": "code",
   "execution_count": 50,
   "metadata": {},
   "outputs": [
    {
     "name": "stderr",
     "output_type": "stream",
     "text": [
      "Some weights of the model checkpoint at dbmdz/bert-large-cased-finetuned-conll03-english were not used when initializing BertForTokenClassification: ['bert.pooler.dense.bias', 'bert.pooler.dense.weight']\n",
      "- This IS expected if you are initializing BertForTokenClassification from the checkpoint of a model trained on another task or with another architecture (e.g. initializing a BertForSequenceClassification model from a BertForPreTraining model).\n",
      "- This IS NOT expected if you are initializing BertForTokenClassification from the checkpoint of a model that you expect to be exactly identical (initializing a BertForSequenceClassification model from a BertForSequenceClassification model).\n",
      "Device set to use cpu\n"
     ]
    },
    {
     "name": "stdout",
     "output_type": "stream",
     "text": [
      "[('Jay', 'PLace'), (\"'\", 'PLace'), ('s', 'PLace'), ('B', 'PLace'), ('##ist', 'PLace'), ('##ro', 'Place'), ('Jay', 'PLace'), (\"'\", 'PLace'), ('s', 'PLace'), ('B', 'PLace'), ('##ist', 'PLace'), ('##ro', 'PLace'), ('West', 'Place'), ('Oak', 'Place'), ('Fort', 'Place'), ('Collins', 'Place'), ('CO', 'Place')]\n"
     ]
    }
   ],
   "source": [
    "from transformers import pipeline\n",
    "\n",
    "# Load a pre-trained NER model\n",
    "nlp_ner = pipeline(\"ner\", model=\"dbmdz/bert-large-cased-finetuned-conll03-english\")\n",
    "\n",
    "def identify_place_or_person(text):\n",
    "    # Use the NER model to get entities\n",
    "    entities = nlp_ner(text)\n",
    "\n",
    "    places_or_people = []\n",
    "\n",
    "    for entity in entities:\n",
    "        #print(entity)\n",
    "        if entity['entity'] == \"B-ORG\" or entity['entity'] == \"I-ORG\":\n",
    "            places_or_people.append((entity['word'], \"PLace\"))\n",
    "        elif entity['entity'] == \"B-LOC\" or entity['entity'] == \"I-LOC\":\n",
    "            places_or_people.append((entity['word'], \"Place\"))\n",
    "\n",
    "    return places_or_people\n",
    "\n",
    "# Example sentences\n",
    "#sentence1 = \"Meet me at David's Restaurant.\"\n",
    "#sentence2 = \"Meet David at the restaurant.\"\n",
    "\n",
    "print(identify_place_or_person(text))\n",
    "#print(identify_place_or_person(sentence2))\n"
   ]
  },
  {
   "cell_type": "code",
   "execution_count": null,
   "metadata": {},
   "outputs": [],
   "source": [
    "with open(\"processing_job_config.json\",\"r\") as cf:\n",
    "        config_file=json.load(cf)\n",
    "    \n",
    "bucket_name = config_file[\"bucket_name\"]\n",
    "params = config_file[\"dictionary_model\"]\n",
    "dictionary_path = params[\"dictionary_path\"]\n",
    "nr_candidates = params[\"nr_candidates\"]\n",
    "manual_restricted_words = config_file[\"manual_restricted_words\"]\n",
    "#content = s3.get_object(Bucket=bucket_name, Key=manual_restricted_words)['Body']\n",
    "#manual_dictionary=json.loads(content.read())\n",
    "restricted_wrds_file = config_file[\"restricted_words\"]\n",
    "competitor_names = dictionary_path+'hcp_cancrgov_mods_competitor_nm.json'\n",
    "drugbank_product = dictionary_path+'hcp_drugbnk_mods_ctgry_prdct.json'\n",
    "medra_disease_names = dictionary_path+'hcp_medra_disease_nm.json'\n",
    "product_attributes = dictionary_path+'hcp_product_attributes.json'\n",
    "\n",
    "#obj = s3.get_object(Bucket=bucket_name, Key=restricted_wrds_file)\n",
    "df_restricted_wrd = pd.read_excel('rwl_category_veeva.xlsx',engine='openpyxl')"
   ]
  },
  {
   "cell_type": "code",
   "execution_count": 8,
   "metadata": {},
   "outputs": [
    {
     "name": "stdout",
     "output_type": "stream",
     "text": [
      "Defaulting to user installation because normal site-packages is not writeable\n",
      "Requirement already satisfied: pandas in c:\\users\\c289588\\appdata\\local\\packages\\pythonsoftwarefoundation.python.3.12_qbz5n2kfra8p0\\localcache\\local-packages\\python312\\site-packages (2.2.2)\n",
      "Collecting pandas\n",
      "  Downloading pandas-2.2.3-cp312-cp312-win_amd64.whl.metadata (19 kB)\n",
      "Requirement already satisfied: numpy>=1.26.0 in c:\\users\\c289588\\appdata\\local\\packages\\pythonsoftwarefoundation.python.3.12_qbz5n2kfra8p0\\localcache\\local-packages\\python312\\site-packages (from pandas) (1.26.4)\n",
      "Requirement already satisfied: python-dateutil>=2.8.2 in c:\\users\\c289588\\appdata\\local\\packages\\pythonsoftwarefoundation.python.3.12_qbz5n2kfra8p0\\localcache\\local-packages\\python312\\site-packages (from pandas) (2.9.0.post0)\n",
      "Requirement already satisfied: pytz>=2020.1 in c:\\users\\c289588\\appdata\\local\\packages\\pythonsoftwarefoundation.python.3.12_qbz5n2kfra8p0\\localcache\\local-packages\\python312\\site-packages (from pandas) (2024.1)\n",
      "Requirement already satisfied: tzdata>=2022.7 in c:\\users\\c289588\\appdata\\local\\packages\\pythonsoftwarefoundation.python.3.12_qbz5n2kfra8p0\\localcache\\local-packages\\python312\\site-packages (from pandas) (2024.1)\n",
      "Requirement already satisfied: six>=1.5 in c:\\users\\c289588\\appdata\\local\\packages\\pythonsoftwarefoundation.python.3.12_qbz5n2kfra8p0\\localcache\\local-packages\\python312\\site-packages (from python-dateutil>=2.8.2->pandas) (1.16.0)\n",
      "Downloading pandas-2.2.3-cp312-cp312-win_amd64.whl (11.5 MB)\n",
      "   ---------------------------------------- 0.0/11.5 MB ? eta -:--:--\n",
      "   -- ------------------------------------- 0.8/11.5 MB 5.6 MB/s eta 0:00:02\n",
      "   ---------- ----------------------------- 3.1/11.5 MB 8.8 MB/s eta 0:00:01\n",
      "   --------------- ------------------------ 4.5/11.5 MB 7.5 MB/s eta 0:00:01\n",
      "   ---------------------------- ----------- 8.1/11.5 MB 10.1 MB/s eta 0:00:01\n",
      "   ---------------------------------------  11.3/11.5 MB 11.4 MB/s eta 0:00:01\n",
      "   ---------------------------------------- 11.5/11.5 MB 9.7 MB/s eta 0:00:00\n",
      "Installing collected packages: pandas\n",
      "  Attempting uninstall: pandas\n",
      "    Found existing installation: pandas 2.2.2\n",
      "    Uninstalling pandas-2.2.2:\n",
      "      Successfully uninstalled pandas-2.2.2\n",
      "Successfully installed pandas-2.2.3\n"
     ]
    },
    {
     "name": "stderr",
     "output_type": "stream",
     "text": [
      "  WARNING: Failed to remove contents in a temporary directory 'C:\\Users\\C289588\\AppData\\Local\\Packages\\PythonSoftwareFoundation.Python.3.12_qbz5n2kfra8p0\\LocalCache\\local-packages\\Python312\\site-packages\\~andas.libs'.\n",
      "  You can safely remove it manually.\n",
      "  WARNING: Failed to remove contents in a temporary directory 'C:\\Users\\C289588\\AppData\\Local\\Packages\\PythonSoftwareFoundation.Python.3.12_qbz5n2kfra8p0\\LocalCache\\local-packages\\Python312\\site-packages\\~andas'.\n",
      "  You can safely remove it manually.\n",
      "\n",
      "[notice] A new release of pip is available: 24.2 -> 24.3.1\n",
      "[notice] To update, run: C:\\Users\\C289588\\AppData\\Local\\Microsoft\\WindowsApps\\PythonSoftwareFoundation.Python.3.12_qbz5n2kfra8p0\\python.exe -m pip install --upgrade pip\n"
     ]
    }
   ],
   "source": [
    "!pip install --upgrade pandas"
   ]
  },
  {
   "cell_type": "code",
   "execution_count": 13,
   "metadata": {},
   "outputs": [],
   "source": [
    "with open('manual_restricted_words.json', 'r') as file:\n",
    "        manual_dictionary = json.load(file)\n",
    "manual_trigger_words = manual_dictionary[\"restricted_words\"]"
   ]
  },
  {
   "cell_type": "code",
   "execution_count": 25,
   "metadata": {},
   "outputs": [],
   "source": [
    "def convert_into_str(cols):\n",
    "    #print(cols[0])\n",
    "    if(cols[0])==1:\n",
    "        return cols[\"restricted_words\"]"
   ]
  },
  {
   "cell_type": "code",
   "execution_count": null,
   "metadata": {},
   "outputs": [],
   "source": [
    "def create_restricted_json(raw_json, catg):\n",
    "    restricted_keywords = {}\n",
    "    for key in catg:\n",
    "        temp=[]\n",
    "        for inner_key , val in raw_json[key].items():\n",
    "            if val!=None:\n",
    "                temp.append(val)\n",
    "        if temp:\n",
    "            restricted_keywords.update({key:list(set(temp))})\n",
    "    return restricted_keywords"
   ]
  },
  {
   "cell_type": "code",
   "execution_count": 67,
   "metadata": {},
   "outputs": [
    {
     "name": "stdout",
     "output_type": "stream",
     "text": [
      "Defaulting to user installation because normal site-packages is not writeable\n",
      "Collecting en-core-web-lg==3.7.1\n",
      "  Downloading https://github.com/explosion/spacy-models/releases/download/en_core_web_lg-3.7.1/en_core_web_lg-3.7.1-py3-none-any.whl (587.7 MB)\n",
      "     ---------------------------------------- 0.0/587.7 MB ? eta -:--:--\n",
      "     --------------------------------------- 3.7/587.7 MB 31.3 MB/s eta 0:00:19\n",
      "      ------------------------------------- 10.5/587.7 MB 32.8 MB/s eta 0:00:18\n",
      "      ------------------------------------- 10.5/587.7 MB 32.8 MB/s eta 0:00:18\n",
      "      ------------------------------------- 14.7/587.7 MB 19.6 MB/s eta 0:00:30\n",
      "     - ------------------------------------ 21.0/587.7 MB 22.9 MB/s eta 0:00:25\n",
      "     - ------------------------------------ 24.4/587.7 MB 21.2 MB/s eta 0:00:27\n",
      "     - ------------------------------------ 30.4/587.7 MB 22.4 MB/s eta 0:00:25\n",
      "     -- ----------------------------------- 33.8/587.7 MB 21.7 MB/s eta 0:00:26\n",
      "     -- ----------------------------------- 40.9/587.7 MB 23.2 MB/s eta 0:00:24\n",
      "     -- ----------------------------------- 44.8/587.7 MB 22.6 MB/s eta 0:00:24\n",
      "     --- ---------------------------------- 50.6/587.7 MB 23.0 MB/s eta 0:00:24\n",
      "     --- ---------------------------------- 54.3/587.7 MB 22.4 MB/s eta 0:00:24\n",
      "     --- ---------------------------------- 59.8/587.7 MB 23.1 MB/s eta 0:00:23\n",
      "     ---- --------------------------------- 64.2/587.7 MB 22.6 MB/s eta 0:00:24\n",
      "     ---- --------------------------------- 71.3/587.7 MB 23.4 MB/s eta 0:00:23\n",
      "     ---- --------------------------------- 74.4/587.7 MB 22.9 MB/s eta 0:00:23\n",
      "     ----- -------------------------------- 80.7/587.7 MB 23.4 MB/s eta 0:00:22\n",
      "     ----- -------------------------------- 85.7/587.7 MB 23.4 MB/s eta 0:00:22\n",
      "     ----- -------------------------------- 92.0/587.7 MB 23.8 MB/s eta 0:00:21\n",
      "     ------ ------------------------------- 95.9/587.7 MB 23.6 MB/s eta 0:00:21\n",
      "     ------ ------------------------------ 103.3/587.7 MB 24.2 MB/s eta 0:00:21\n",
      "     ------ ------------------------------ 106.7/587.7 MB 23.7 MB/s eta 0:00:21\n",
      "     ------- ----------------------------- 113.2/587.7 MB 24.1 MB/s eta 0:00:20\n",
      "     ------- ----------------------------- 115.6/587.7 MB 23.5 MB/s eta 0:00:21\n",
      "     ------- ----------------------------- 122.4/587.7 MB 24.0 MB/s eta 0:00:20\n",
      "     ------- ----------------------------- 125.8/587.7 MB 24.2 MB/s eta 0:00:20\n",
      "     -------- ---------------------------- 133.2/587.7 MB 24.1 MB/s eta 0:00:19\n",
      "     -------- ---------------------------- 136.3/587.7 MB 23.9 MB/s eta 0:00:19\n",
      "     -------- ---------------------------- 142.3/587.7 MB 24.0 MB/s eta 0:00:19\n",
      "     --------- --------------------------- 146.8/587.7 MB 24.0 MB/s eta 0:00:19\n",
      "     --------- --------------------------- 153.1/587.7 MB 24.1 MB/s eta 0:00:19\n",
      "     --------- --------------------------- 157.8/587.7 MB 24.0 MB/s eta 0:00:18\n",
      "     ---------- -------------------------- 165.2/587.7 MB 24.3 MB/s eta 0:00:18\n",
      "     ---------- -------------------------- 168.3/587.7 MB 24.0 MB/s eta 0:00:18\n",
      "     ----------- ------------------------- 175.6/587.7 MB 24.3 MB/s eta 0:00:17\n",
      "     ----------- ------------------------- 179.3/587.7 MB 24.1 MB/s eta 0:00:17\n",
      "     ----------- ------------------------- 186.9/587.7 MB 24.4 MB/s eta 0:00:17\n",
      "     ------------ ------------------------ 191.6/587.7 MB 24.3 MB/s eta 0:00:17\n",
      "     ------------ ------------------------ 198.2/587.7 MB 24.5 MB/s eta 0:00:16\n",
      "     ------------ ------------------------ 202.1/587.7 MB 24.3 MB/s eta 0:00:16\n",
      "     ------------- ----------------------- 207.6/587.7 MB 24.4 MB/s eta 0:00:16\n",
      "     ------------- ----------------------- 211.3/587.7 MB 24.2 MB/s eta 0:00:16\n",
      "     ------------- ----------------------- 218.6/587.7 MB 24.5 MB/s eta 0:00:16\n",
      "     ------------- ----------------------- 221.8/587.7 MB 24.3 MB/s eta 0:00:16\n",
      "     -------------- ---------------------- 228.6/587.7 MB 24.5 MB/s eta 0:00:15\n",
      "     -------------- ---------------------- 232.8/587.7 MB 24.4 MB/s eta 0:00:15\n",
      "     --------------- --------------------- 239.1/587.7 MB 24.5 MB/s eta 0:00:15\n",
      "     --------------- --------------------- 245.4/587.7 MB 24.5 MB/s eta 0:00:14\n",
      "     --------------- --------------------- 250.1/587.7 MB 24.5 MB/s eta 0:00:14\n",
      "     ---------------- -------------------- 256.6/587.7 MB 24.7 MB/s eta 0:00:14\n",
      "     ---------------- -------------------- 262.1/587.7 MB 24.7 MB/s eta 0:00:14\n",
      "     ---------------- -------------------- 267.4/587.7 MB 24.6 MB/s eta 0:00:14\n",
      "     ----------------- ------------------- 272.6/587.7 MB 25.2 MB/s eta 0:00:13\n",
      "     ----------------- ------------------- 278.4/587.7 MB 25.1 MB/s eta 0:00:13\n",
      "     ----------------- ------------------- 283.1/587.7 MB 25.4 MB/s eta 0:00:12\n",
      "     ------------------ ------------------ 288.1/587.7 MB 25.1 MB/s eta 0:00:12\n",
      "     ------------------ ------------------ 293.6/587.7 MB 25.4 MB/s eta 0:00:12\n",
      "     ------------------ ------------------ 293.9/587.7 MB 24.8 MB/s eta 0:00:12\n",
      "     ------------------ ------------------ 301.2/587.7 MB 24.9 MB/s eta 0:00:12\n",
      "     ------------------- ----------------- 304.1/587.7 MB 25.0 MB/s eta 0:00:12\n",
      "     ------------------- ----------------- 310.6/587.7 MB 24.8 MB/s eta 0:00:12\n",
      "     ------------------- ----------------- 314.6/587.7 MB 25.1 MB/s eta 0:00:11\n",
      "     -------------------- ---------------- 321.1/587.7 MB 24.8 MB/s eta 0:00:11\n",
      "     -------------------- ---------------- 325.1/587.7 MB 24.9 MB/s eta 0:00:11\n",
      "     -------------------- ---------------- 330.6/587.7 MB 24.8 MB/s eta 0:00:11\n",
      "     --------------------- --------------- 335.5/587.7 MB 25.1 MB/s eta 0:00:11\n",
      "     --------------------- --------------- 341.8/587.7 MB 24.9 MB/s eta 0:00:10\n",
      "     --------------------- --------------- 346.0/587.7 MB 25.1 MB/s eta 0:00:10\n",
      "     ---------------------- -------------- 352.6/587.7 MB 24.9 MB/s eta 0:00:10\n",
      "     ---------------------- -------------- 355.5/587.7 MB 24.6 MB/s eta 0:00:10\n",
      "     ---------------------- -------------- 362.5/587.7 MB 24.8 MB/s eta 0:00:10\n",
      "     ----------------------- ------------- 367.0/587.7 MB 25.0 MB/s eta 0:00:09\n",
      "     ----------------------- ------------- 373.0/587.7 MB 24.8 MB/s eta 0:00:09\n",
      "     ----------------------- ------------- 376.7/587.7 MB 24.7 MB/s eta 0:00:09\n",
      "     ------------------------ ------------ 383.0/587.7 MB 24.9 MB/s eta 0:00:09\n",
      "     ------------------------ ------------ 387.2/587.7 MB 24.9 MB/s eta 0:00:09\n",
      "     ------------------------ ------------ 392.4/587.7 MB 24.8 MB/s eta 0:00:08\n",
      "     ------------------------- ----------- 398.5/587.7 MB 25.0 MB/s eta 0:00:08\n",
      "     ------------------------- ----------- 401.6/587.7 MB 24.8 MB/s eta 0:00:08\n",
      "     ------------------------- ----------- 407.6/587.7 MB 24.9 MB/s eta 0:00:08\n",
      "     ------------------------- ----------- 411.3/587.7 MB 24.8 MB/s eta 0:00:08\n",
      "     -------------------------- ---------- 417.3/587.7 MB 24.7 MB/s eta 0:00:07\n",
      "     -------------------------- ---------- 423.1/587.7 MB 24.8 MB/s eta 0:00:07\n",
      "     -------------------------- ---------- 428.3/587.7 MB 24.6 MB/s eta 0:00:07\n",
      "     --------------------------- --------- 434.1/587.7 MB 24.8 MB/s eta 0:00:07\n",
      "     --------------------------- --------- 440.4/587.7 MB 25.0 MB/s eta 0:00:06\n",
      "     ---------------------------- -------- 446.4/587.7 MB 24.9 MB/s eta 0:00:06\n",
      "     ---------------------------- -------- 450.9/587.7 MB 25.0 MB/s eta 0:00:06\n",
      "     ---------------------------- -------- 457.7/587.7 MB 24.8 MB/s eta 0:00:06\n",
      "     ----------------------------- ------- 461.4/587.7 MB 25.1 MB/s eta 0:00:06\n",
      "     ----------------------------- ------- 464.3/587.7 MB 24.6 MB/s eta 0:00:06\n",
      "     ----------------------------- ------- 471.6/587.7 MB 24.8 MB/s eta 0:00:05\n",
      "     ----------------------------- ------- 475.3/587.7 MB 24.7 MB/s eta 0:00:05\n",
      "     ------------------------------ ------ 481.3/587.7 MB 24.9 MB/s eta 0:00:05\n",
      "     ------------------------------ ------ 486.0/587.7 MB 24.7 MB/s eta 0:00:05\n",
      "     ------------------------------- ----- 492.8/587.7 MB 24.9 MB/s eta 0:00:04\n",
      "     ------------------------------- ----- 496.0/587.7 MB 24.7 MB/s eta 0:00:04\n",
      "     ------------------------------- ----- 503.3/587.7 MB 24.9 MB/s eta 0:00:04\n",
      "     -------------------------------- ---- 508.3/587.7 MB 24.6 MB/s eta 0:00:04\n",
      "     -------------------------------- ---- 513.0/587.7 MB 24.6 MB/s eta 0:00:04\n",
      "     -------------------------------- ---- 518.8/587.7 MB 24.5 MB/s eta 0:00:03\n",
      "     --------------------------------- --- 524.3/587.7 MB 24.8 MB/s eta 0:00:03\n",
      "     --------------------------------- --- 529.0/587.7 MB 24.5 MB/s eta 0:00:03\n",
      "     --------------------------------- --- 534.8/587.7 MB 24.7 MB/s eta 0:00:03\n",
      "     --------------------------------- --- 539.8/587.7 MB 24.4 MB/s eta 0:00:02\n",
      "     ---------------------------------- -- 545.3/587.7 MB 24.7 MB/s eta 0:00:02\n",
      "     ---------------------------------- -- 545.3/587.7 MB 24.7 MB/s eta 0:00:02\n",
      "     ---------------------------------- -- 551.8/587.7 MB 24.1 MB/s eta 0:00:02\n",
      "     ----------------------------------- - 556.3/587.7 MB 24.5 MB/s eta 0:00:02\n",
      "     ----------------------------------- - 562.8/587.7 MB 24.5 MB/s eta 0:00:02\n",
      "     ----------------------------------- - 567.5/587.7 MB 24.6 MB/s eta 0:00:01\n",
      "     ------------------------------------  574.1/587.7 MB 24.6 MB/s eta 0:00:01\n",
      "     ------------------------------------  578.0/587.7 MB 24.7 MB/s eta 0:00:01\n",
      "     ------------------------------------  584.3/587.7 MB 24.6 MB/s eta 0:00:01\n",
      "     ------------------------------------  587.5/587.7 MB 24.8 MB/s eta 0:00:01\n",
      "     ------------------------------------  587.5/587.7 MB 24.8 MB/s eta 0:00:01\n",
      "     ------------------------------------  587.5/587.7 MB 24.8 MB/s eta 0:00:01\n",
      "     ------------------------------------  587.5/587.7 MB 24.8 MB/s eta 0:00:01\n",
      "     ------------------------------------  587.5/587.7 MB 24.8 MB/s eta 0:00:01\n",
      "     ------------------------------------  587.5/587.7 MB 24.8 MB/s eta 0:00:01\n",
      "     ------------------------------------- 587.7/587.7 MB 22.3 MB/s eta 0:00:00\n",
      "Requirement already satisfied: spacy<3.8.0,>=3.7.2 in c:\\users\\c289588\\appdata\\local\\packages\\pythonsoftwarefoundation.python.3.12_qbz5n2kfra8p0\\localcache\\local-packages\\python312\\site-packages (from en-core-web-lg==3.7.1) (3.7.6)\n",
      "Requirement already satisfied: spacy-legacy<3.1.0,>=3.0.11 in c:\\users\\c289588\\appdata\\local\\packages\\pythonsoftwarefoundation.python.3.12_qbz5n2kfra8p0\\localcache\\local-packages\\python312\\site-packages (from spacy<3.8.0,>=3.7.2->en-core-web-lg==3.7.1) (3.0.12)\n",
      "Requirement already satisfied: spacy-loggers<2.0.0,>=1.0.0 in c:\\users\\c289588\\appdata\\local\\packages\\pythonsoftwarefoundation.python.3.12_qbz5n2kfra8p0\\localcache\\local-packages\\python312\\site-packages (from spacy<3.8.0,>=3.7.2->en-core-web-lg==3.7.1) (1.0.5)\n",
      "Requirement already satisfied: murmurhash<1.1.0,>=0.28.0 in c:\\users\\c289588\\appdata\\local\\packages\\pythonsoftwarefoundation.python.3.12_qbz5n2kfra8p0\\localcache\\local-packages\\python312\\site-packages (from spacy<3.8.0,>=3.7.2->en-core-web-lg==3.7.1) (1.0.10)\n",
      "Requirement already satisfied: cymem<2.1.0,>=2.0.2 in c:\\users\\c289588\\appdata\\local\\packages\\pythonsoftwarefoundation.python.3.12_qbz5n2kfra8p0\\localcache\\local-packages\\python312\\site-packages (from spacy<3.8.0,>=3.7.2->en-core-web-lg==3.7.1) (2.0.8)\n",
      "Requirement already satisfied: preshed<3.1.0,>=3.0.2 in c:\\users\\c289588\\appdata\\local\\packages\\pythonsoftwarefoundation.python.3.12_qbz5n2kfra8p0\\localcache\\local-packages\\python312\\site-packages (from spacy<3.8.0,>=3.7.2->en-core-web-lg==3.7.1) (3.0.9)\n",
      "Requirement already satisfied: thinc<8.3.0,>=8.2.2 in c:\\users\\c289588\\appdata\\local\\packages\\pythonsoftwarefoundation.python.3.12_qbz5n2kfra8p0\\localcache\\local-packages\\python312\\site-packages (from spacy<3.8.0,>=3.7.2->en-core-web-lg==3.7.1) (8.2.5)\n",
      "Requirement already satisfied: wasabi<1.2.0,>=0.9.1 in c:\\users\\c289588\\appdata\\local\\packages\\pythonsoftwarefoundation.python.3.12_qbz5n2kfra8p0\\localcache\\local-packages\\python312\\site-packages (from spacy<3.8.0,>=3.7.2->en-core-web-lg==3.7.1) (1.1.3)\n",
      "Requirement already satisfied: srsly<3.0.0,>=2.4.3 in c:\\users\\c289588\\appdata\\local\\packages\\pythonsoftwarefoundation.python.3.12_qbz5n2kfra8p0\\localcache\\local-packages\\python312\\site-packages (from spacy<3.8.0,>=3.7.2->en-core-web-lg==3.7.1) (2.4.8)\n",
      "Requirement already satisfied: catalogue<2.1.0,>=2.0.6 in c:\\users\\c289588\\appdata\\local\\packages\\pythonsoftwarefoundation.python.3.12_qbz5n2kfra8p0\\localcache\\local-packages\\python312\\site-packages (from spacy<3.8.0,>=3.7.2->en-core-web-lg==3.7.1) (2.0.10)\n",
      "Requirement already satisfied: weasel<0.5.0,>=0.1.0 in c:\\users\\c289588\\appdata\\local\\packages\\pythonsoftwarefoundation.python.3.12_qbz5n2kfra8p0\\localcache\\local-packages\\python312\\site-packages (from spacy<3.8.0,>=3.7.2->en-core-web-lg==3.7.1) (0.4.1)\n",
      "Requirement already satisfied: typer<1.0.0,>=0.3.0 in c:\\users\\c289588\\appdata\\local\\packages\\pythonsoftwarefoundation.python.3.12_qbz5n2kfra8p0\\localcache\\local-packages\\python312\\site-packages (from spacy<3.8.0,>=3.7.2->en-core-web-lg==3.7.1) (0.12.3)\n",
      "Requirement already satisfied: tqdm<5.0.0,>=4.38.0 in c:\\users\\c289588\\appdata\\local\\packages\\pythonsoftwarefoundation.python.3.12_qbz5n2kfra8p0\\localcache\\local-packages\\python312\\site-packages (from spacy<3.8.0,>=3.7.2->en-core-web-lg==3.7.1) (4.66.4)\n",
      "Requirement already satisfied: requests<3.0.0,>=2.13.0 in c:\\users\\c289588\\appdata\\local\\packages\\pythonsoftwarefoundation.python.3.12_qbz5n2kfra8p0\\localcache\\local-packages\\python312\\site-packages (from spacy<3.8.0,>=3.7.2->en-core-web-lg==3.7.1) (2.32.3)\n",
      "Requirement already satisfied: pydantic!=1.8,!=1.8.1,<3.0.0,>=1.7.4 in c:\\users\\c289588\\appdata\\local\\packages\\pythonsoftwarefoundation.python.3.12_qbz5n2kfra8p0\\localcache\\local-packages\\python312\\site-packages (from spacy<3.8.0,>=3.7.2->en-core-web-lg==3.7.1) (2.7.4)\n",
      "Requirement already satisfied: jinja2 in c:\\users\\c289588\\appdata\\local\\packages\\pythonsoftwarefoundation.python.3.12_qbz5n2kfra8p0\\localcache\\local-packages\\python312\\site-packages (from spacy<3.8.0,>=3.7.2->en-core-web-lg==3.7.1) (3.1.4)\n",
      "Requirement already satisfied: setuptools in c:\\users\\c289588\\appdata\\local\\packages\\pythonsoftwarefoundation.python.3.12_qbz5n2kfra8p0\\localcache\\local-packages\\python312\\site-packages (from spacy<3.8.0,>=3.7.2->en-core-web-lg==3.7.1) (75.1.0)\n",
      "Requirement already satisfied: packaging>=20.0 in c:\\users\\c289588\\appdata\\local\\packages\\pythonsoftwarefoundation.python.3.12_qbz5n2kfra8p0\\localcache\\local-packages\\python312\\site-packages (from spacy<3.8.0,>=3.7.2->en-core-web-lg==3.7.1) (24.1)\n",
      "Requirement already satisfied: langcodes<4.0.0,>=3.2.0 in c:\\users\\c289588\\appdata\\local\\packages\\pythonsoftwarefoundation.python.3.12_qbz5n2kfra8p0\\localcache\\local-packages\\python312\\site-packages (from spacy<3.8.0,>=3.7.2->en-core-web-lg==3.7.1) (3.4.1)\n",
      "Requirement already satisfied: numpy>=1.19.0 in c:\\users\\c289588\\appdata\\local\\packages\\pythonsoftwarefoundation.python.3.12_qbz5n2kfra8p0\\localcache\\local-packages\\python312\\site-packages (from spacy<3.8.0,>=3.7.2->en-core-web-lg==3.7.1) (1.26.4)\n",
      "Requirement already satisfied: language-data>=1.2 in c:\\users\\c289588\\appdata\\local\\packages\\pythonsoftwarefoundation.python.3.12_qbz5n2kfra8p0\\localcache\\local-packages\\python312\\site-packages (from langcodes<4.0.0,>=3.2.0->spacy<3.8.0,>=3.7.2->en-core-web-lg==3.7.1) (1.2.0)\n",
      "Requirement already satisfied: annotated-types>=0.4.0 in c:\\users\\c289588\\appdata\\local\\packages\\pythonsoftwarefoundation.python.3.12_qbz5n2kfra8p0\\localcache\\local-packages\\python312\\site-packages (from pydantic!=1.8,!=1.8.1,<3.0.0,>=1.7.4->spacy<3.8.0,>=3.7.2->en-core-web-lg==3.7.1) (0.7.0)\n",
      "Requirement already satisfied: pydantic-core==2.18.4 in c:\\users\\c289588\\appdata\\local\\packages\\pythonsoftwarefoundation.python.3.12_qbz5n2kfra8p0\\localcache\\local-packages\\python312\\site-packages (from pydantic!=1.8,!=1.8.1,<3.0.0,>=1.7.4->spacy<3.8.0,>=3.7.2->en-core-web-lg==3.7.1) (2.18.4)\n",
      "Requirement already satisfied: typing-extensions>=4.6.1 in c:\\users\\c289588\\appdata\\local\\packages\\pythonsoftwarefoundation.python.3.12_qbz5n2kfra8p0\\localcache\\local-packages\\python312\\site-packages (from pydantic!=1.8,!=1.8.1,<3.0.0,>=1.7.4->spacy<3.8.0,>=3.7.2->en-core-web-lg==3.7.1) (4.12.2)\n",
      "Requirement already satisfied: charset-normalizer<4,>=2 in c:\\users\\c289588\\appdata\\local\\packages\\pythonsoftwarefoundation.python.3.12_qbz5n2kfra8p0\\localcache\\local-packages\\python312\\site-packages (from requests<3.0.0,>=2.13.0->spacy<3.8.0,>=3.7.2->en-core-web-lg==3.7.1) (3.3.2)\n",
      "Requirement already satisfied: idna<4,>=2.5 in c:\\users\\c289588\\appdata\\local\\packages\\pythonsoftwarefoundation.python.3.12_qbz5n2kfra8p0\\localcache\\local-packages\\python312\\site-packages (from requests<3.0.0,>=2.13.0->spacy<3.8.0,>=3.7.2->en-core-web-lg==3.7.1) (3.7)\n",
      "Requirement already satisfied: urllib3<3,>=1.21.1 in c:\\users\\c289588\\appdata\\local\\packages\\pythonsoftwarefoundation.python.3.12_qbz5n2kfra8p0\\localcache\\local-packages\\python312\\site-packages (from requests<3.0.0,>=2.13.0->spacy<3.8.0,>=3.7.2->en-core-web-lg==3.7.1) (2.2.2)\n",
      "Requirement already satisfied: certifi>=2017.4.17 in c:\\users\\c289588\\appdata\\local\\packages\\pythonsoftwarefoundation.python.3.12_qbz5n2kfra8p0\\localcache\\local-packages\\python312\\site-packages (from requests<3.0.0,>=2.13.0->spacy<3.8.0,>=3.7.2->en-core-web-lg==3.7.1) (2024.6.2)\n",
      "Requirement already satisfied: blis<0.8.0,>=0.7.8 in c:\\users\\c289588\\appdata\\local\\packages\\pythonsoftwarefoundation.python.3.12_qbz5n2kfra8p0\\localcache\\local-packages\\python312\\site-packages (from thinc<8.3.0,>=8.2.2->spacy<3.8.0,>=3.7.2->en-core-web-lg==3.7.1) (0.7.11)\n",
      "Requirement already satisfied: confection<1.0.0,>=0.0.1 in c:\\users\\c289588\\appdata\\local\\packages\\pythonsoftwarefoundation.python.3.12_qbz5n2kfra8p0\\localcache\\local-packages\\python312\\site-packages (from thinc<8.3.0,>=8.2.2->spacy<3.8.0,>=3.7.2->en-core-web-lg==3.7.1) (0.1.5)\n",
      "Requirement already satisfied: colorama in c:\\users\\c289588\\appdata\\local\\packages\\pythonsoftwarefoundation.python.3.12_qbz5n2kfra8p0\\localcache\\local-packages\\python312\\site-packages (from tqdm<5.0.0,>=4.38.0->spacy<3.8.0,>=3.7.2->en-core-web-lg==3.7.1) (0.4.6)\n",
      "Requirement already satisfied: click>=8.0.0 in c:\\users\\c289588\\appdata\\local\\packages\\pythonsoftwarefoundation.python.3.12_qbz5n2kfra8p0\\localcache\\local-packages\\python312\\site-packages (from typer<1.0.0,>=0.3.0->spacy<3.8.0,>=3.7.2->en-core-web-lg==3.7.1) (8.1.7)\n",
      "Requirement already satisfied: shellingham>=1.3.0 in c:\\users\\c289588\\appdata\\local\\packages\\pythonsoftwarefoundation.python.3.12_qbz5n2kfra8p0\\localcache\\local-packages\\python312\\site-packages (from typer<1.0.0,>=0.3.0->spacy<3.8.0,>=3.7.2->en-core-web-lg==3.7.1) (1.5.4)\n",
      "Requirement already satisfied: rich>=10.11.0 in c:\\users\\c289588\\appdata\\local\\packages\\pythonsoftwarefoundation.python.3.12_qbz5n2kfra8p0\\localcache\\local-packages\\python312\\site-packages (from typer<1.0.0,>=0.3.0->spacy<3.8.0,>=3.7.2->en-core-web-lg==3.7.1) (13.7.1)\n",
      "Requirement already satisfied: cloudpathlib<1.0.0,>=0.7.0 in c:\\users\\c289588\\appdata\\local\\packages\\pythonsoftwarefoundation.python.3.12_qbz5n2kfra8p0\\localcache\\local-packages\\python312\\site-packages (from weasel<0.5.0,>=0.1.0->spacy<3.8.0,>=3.7.2->en-core-web-lg==3.7.1) (0.19.0)\n",
      "Requirement already satisfied: smart-open<8.0.0,>=5.2.1 in c:\\users\\c289588\\appdata\\local\\packages\\pythonsoftwarefoundation.python.3.12_qbz5n2kfra8p0\\localcache\\local-packages\\python312\\site-packages (from weasel<0.5.0,>=0.1.0->spacy<3.8.0,>=3.7.2->en-core-web-lg==3.7.1) (7.0.4)\n",
      "Requirement already satisfied: MarkupSafe>=2.0 in c:\\users\\c289588\\appdata\\local\\packages\\pythonsoftwarefoundation.python.3.12_qbz5n2kfra8p0\\localcache\\local-packages\\python312\\site-packages (from jinja2->spacy<3.8.0,>=3.7.2->en-core-web-lg==3.7.1) (2.1.5)\n",
      "Requirement already satisfied: marisa-trie>=0.7.7 in c:\\users\\c289588\\appdata\\local\\packages\\pythonsoftwarefoundation.python.3.12_qbz5n2kfra8p0\\localcache\\local-packages\\python312\\site-packages (from language-data>=1.2->langcodes<4.0.0,>=3.2.0->spacy<3.8.0,>=3.7.2->en-core-web-lg==3.7.1) (1.2.0)\n",
      "Requirement already satisfied: markdown-it-py>=2.2.0 in c:\\users\\c289588\\appdata\\local\\packages\\pythonsoftwarefoundation.python.3.12_qbz5n2kfra8p0\\localcache\\local-packages\\python312\\site-packages (from rich>=10.11.0->typer<1.0.0,>=0.3.0->spacy<3.8.0,>=3.7.2->en-core-web-lg==3.7.1) (3.0.0)\n",
      "Requirement already satisfied: pygments<3.0.0,>=2.13.0 in c:\\users\\c289588\\appdata\\local\\packages\\pythonsoftwarefoundation.python.3.12_qbz5n2kfra8p0\\localcache\\local-packages\\python312\\site-packages (from rich>=10.11.0->typer<1.0.0,>=0.3.0->spacy<3.8.0,>=3.7.2->en-core-web-lg==3.7.1) (2.18.0)\n",
      "Requirement already satisfied: wrapt in c:\\users\\c289588\\appdata\\local\\packages\\pythonsoftwarefoundation.python.3.12_qbz5n2kfra8p0\\localcache\\local-packages\\python312\\site-packages (from smart-open<8.0.0,>=5.2.1->weasel<0.5.0,>=0.1.0->spacy<3.8.0,>=3.7.2->en-core-web-lg==3.7.1) (1.16.0)\n",
      "Requirement already satisfied: mdurl~=0.1 in c:\\users\\c289588\\appdata\\local\\packages\\pythonsoftwarefoundation.python.3.12_qbz5n2kfra8p0\\localcache\\local-packages\\python312\\site-packages (from markdown-it-py>=2.2.0->rich>=10.11.0->typer<1.0.0,>=0.3.0->spacy<3.8.0,>=3.7.2->en-core-web-lg==3.7.1) (0.1.2)\n",
      "Installing collected packages: en-core-web-lg\n",
      "Successfully installed en-core-web-lg-3.7.1\n",
      "\u001b[38;5;2m✔ Download and installation successful\u001b[0m\n",
      "You can now load the package via spacy.load('en_core_web_lg')\n"
     ]
    },
    {
     "name": "stderr",
     "output_type": "stream",
     "text": [
      "\n",
      "[notice] A new release of pip is available: 24.2 -> 24.3.1\n",
      "[notice] To update, run: C:\\Users\\C289588\\AppData\\Local\\Microsoft\\WindowsApps\\PythonSoftwareFoundation.Python.3.12_qbz5n2kfra8p0\\python.exe -m pip install --upgrade pip\n"
     ]
    }
   ],
   "source": [
    "import spacy\n",
    "!python -m spacy download en_core_web_lg\n",
    "nlp = spacy.load(\"en_core_web_lg\")"
   ]
  },
  {
   "cell_type": "code",
   "execution_count": 69,
   "metadata": {},
   "outputs": [],
   "source": [
    "processor = KeywordProcessor(case_sensitive = False)\n",
    "nlp = spacy.load(\"en_core_web_lg\")\n",
    "all_stopwords = nlp.Defaults.stop_words"
   ]
  },
  {
   "cell_type": "code",
   "execution_count": null,
   "metadata": {},
   "outputs": [],
   "source": [
    "def preprocess_restricted_wrd(text, df_restricted_wrd, manual_trigger_words):\n",
    "    df_col = [\"RowSum\",\"Other\"]\n",
    "    for colnames in df_col:\n",
    "        if colnames in  list(df_restricted_wrd.columns):\n",
    "            df_restricted_wrd.drop(columns=[colnames],inplace=True)\n",
    "    inputcols = df_restricted_wrd.columns[1:]\n",
    "    #print(df_restricted_wrd)\n",
    "    #print(inputcols)\n",
    "    for i in inputcols:\n",
    "        df_restricted_wrd[i] = df_restricted_wrd[[i,\"restricted_words\"]].apply(convert_into_str,axis=1)\n",
    "    #print(df_restricted_wrd)\n",
    "    restricted_json = df_restricted_wrd.to_dict()\n",
    "    #print(restricted_json)\n",
    "    catg = list(restricted_json.keys())[1:]\n",
    "    #print(catg)\n",
    "    restricted_catg_kywrds = create_restricted_json(restricted_json, catg)\n",
    "    #print(restricted_catg_kywrds)\n",
    "    for key, val in manual_trigger_words.items():\n",
    "        if key in restricted_catg_kywrds.keys():\n",
    "            temp=list(set(restricted_catg_kywrds[key]+val))\n",
    "            restricted_catg_kywrds[key] = temp\n",
    "        else:\n",
    "            restricted_catg_kywrds.update({key:val})\n",
    "    #print(restricted_catg_kywrds)\n",
    "    restricted_kywrds = [wrd for key, val in restricted_catg_kywrds.items() for wrd in val]\n",
    "    #print(restricted_kywrds)\n",
    "    restricted_kywrds = [wd for wd  in restricted_kywrds if len(wd)>=4]\n",
    "    #print(restricted_kywrds)\n",
    "    processor.add_keywords_from_list(restricted_kywrds)\n",
    "    found = processor.extract_keywords(str(text))\n",
    "    print(found)\n",
    "    direct_match = [wrd for wrd in restricted_kywrds if (len(wrd.strip().split(\" \"))>1) and (wrd.strip().lower() in str(text).lower())]\n",
    "    found.extend(direct_match)\n",
    "    print(direct_match)\n",
    "    found = list(set(found))\n",
    "    flashtext_res = [(wrd,100.0) for wrd in found ]\n",
    "    print(flashtext_res)\n",
    "    return restricted_catg_kywrds, {\"restricted_wrds\":restricted_kywrds}, flashtext_res"
   ]
  },
  {
   "cell_type": "code",
   "execution_count": 59,
   "metadata": {},
   "outputs": [
    {
     "name": "stdout",
     "output_type": "stream",
     "text": [
      "['valuable resources']\n",
      "['valuable resources']\n",
      "[('valuable resources', 100.0)]\n"
     ]
    },
    {
     "data": {
      "text/plain": [
       "({'Adjectives in relation to any product, indication, or clinical data': ['confident will provide value',\n",
       "   'difficult patient solution',\n",
       "   'exciting development',\n",
       "   'key update',\n",
       "   'key product information',\n",
       "   'most up-to-date product',\n",
       "   'information below is an exciting time',\n",
       "   'recent fda approval',\n",
       "   'recent product indication',\n",
       "   'great patient education resource',\n",
       "   'nice update',\n",
       "   'key product updates',\n",
       "   'exciting updated information',\n",
       "   'important product updates and information',\n",
       "   'exciting advancement',\n",
       "   'important update',\n",
       "   'important information',\n",
       "   'exciting information',\n",
       "   'important data',\n",
       "   'important product update',\n",
       "   'valuable resources',\n",
       "   'critical information',\n",
       "   'landmark update',\n",
       "   'newest',\n",
       "   'landmark data',\n",
       "   'exciting info',\n",
       "   'valuable information',\n",
       "   'important indication',\n",
       "   'landmark info',\n",
       "   'exciting indication',\n",
       "   'updated indication',\n",
       "   'recent indication',\n",
       "   'latest indication',\n",
       "   'important key update',\n",
       "   'important clinical update',\n",
       "   'recent product approval',\n",
       "   'updated information regarding our product indication',\n",
       "   'important product',\n",
       "   'important patient resource',\n",
       "   'efficacy results',\n",
       "   'powerful results',\n",
       "   'complete clearance',\n",
       "   'powerful information'],\n",
       "  'Product/Brand information, attributes, or claims': ['benefitting patient',\n",
       "   'benefiting patient',\n",
       "   'beneficial information',\n",
       "   'high-risk patient',\n",
       "   'meeting need',\n",
       "   'meeting a need',\n",
       "   'discover an approach',\n",
       "   'monarche',\n",
       "   'thoracic',\n",
       "   'this advancement will help your patient',\n",
       "   'not a class effect',\n",
       "   'approval for the product',\n",
       "   'oral therapy',\n",
       "   'an advancement that has not been demonstrated',\n",
       "   'first in class medicine',\n",
       "   'ebc patient',\n",
       "   'reminder about our upcoming',\n",
       "   'adjuvant therapy',\n",
       "   'first & only',\n",
       "   'first and only',\n",
       "   'advancement for your patient',\n",
       "   'information represents an advancement'],\n",
       "  'Lilly professional standards': ['medical colleague',\n",
       "   'liason',\n",
       "   'liaison',\n",
       "   'medical liaison',\n",
       "   'medical science liaison',\n",
       "   'share with anyone who you feel would be interested',\n",
       "   'maybe we can meet',\n",
       "   'please forward this',\n",
       "   'please forward it',\n",
       "   'please share this',\n",
       "   'please share it',\n",
       "   'msl team',\n",
       "   'pass along to your colleagues',\n",
       "   'company policy',\n",
       "   'meet outside',\n",
       "   'forward as',\n",
       "   'forward this to',\n",
       "   'forward to any',\n",
       "   'forward to all',\n",
       "   'forward or share',\n",
       "   'forward as needed',\n",
       "   'forward this email'],\n",
       "  'Reference to customer characteristics': ['christmas', 'russia/ukraine'],\n",
       "  'Disease statements/information/medical conditions': ['ebc indication',\n",
       "   'ebc product',\n",
       "   'iaslc',\n",
       "   'iaslcs'],\n",
       "  'Role designation': ['precision medicine consultant',\n",
       "   'orange county consultant',\n",
       "   'senior consultant',\n",
       "   'senior executive oncology professional',\n",
       "   'pa with lilly',\n",
       "   'oncology account specialist',\n",
       "   'sales specialist',\n",
       "   'pharmacist'],\n",
       "  'Privacy/Personal data': ['on your promotion',\n",
       "   'maternity leave',\n",
       "   'paternity leave',\n",
       "   'married',\n",
       "   'can you forward',\n",
       "   'happy anniversary',\n",
       "   'birthday',\n",
       "   'retirement',\n",
       "   'wedding',\n",
       "   'easter',\n",
       "   'marriage']},\n",
       " {'restricted_wrds': ['confident will provide value',\n",
       "   'difficult patient solution',\n",
       "   'exciting development',\n",
       "   'key update',\n",
       "   'key product information',\n",
       "   'most up-to-date product',\n",
       "   'information below is an exciting time',\n",
       "   'recent fda approval',\n",
       "   'recent product indication',\n",
       "   'great patient education resource',\n",
       "   'nice update',\n",
       "   'key product updates',\n",
       "   'exciting updated information',\n",
       "   'important product updates and information',\n",
       "   'exciting advancement',\n",
       "   'important update',\n",
       "   'important information',\n",
       "   'exciting information',\n",
       "   'important data',\n",
       "   'important product update',\n",
       "   'valuable resources',\n",
       "   'critical information',\n",
       "   'landmark update',\n",
       "   'newest',\n",
       "   'landmark data',\n",
       "   'exciting info',\n",
       "   'valuable information',\n",
       "   'important indication',\n",
       "   'landmark info',\n",
       "   'exciting indication',\n",
       "   'updated indication',\n",
       "   'recent indication',\n",
       "   'latest indication',\n",
       "   'important key update',\n",
       "   'important clinical update',\n",
       "   'recent product approval',\n",
       "   'updated information regarding our product indication',\n",
       "   'important product',\n",
       "   'important patient resource',\n",
       "   'efficacy results',\n",
       "   'powerful results',\n",
       "   'complete clearance',\n",
       "   'powerful information',\n",
       "   'benefitting patient',\n",
       "   'benefiting patient',\n",
       "   'beneficial information',\n",
       "   'high-risk patient',\n",
       "   'meeting need',\n",
       "   'meeting a need',\n",
       "   'discover an approach',\n",
       "   'monarche',\n",
       "   'thoracic',\n",
       "   'this advancement will help your patient',\n",
       "   'not a class effect',\n",
       "   'approval for the product',\n",
       "   'oral therapy',\n",
       "   'an advancement that has not been demonstrated',\n",
       "   'first in class medicine',\n",
       "   'ebc patient',\n",
       "   'reminder about our upcoming',\n",
       "   'adjuvant therapy',\n",
       "   'first & only',\n",
       "   'first and only',\n",
       "   'advancement for your patient',\n",
       "   'information represents an advancement',\n",
       "   'medical colleague',\n",
       "   'liason',\n",
       "   'liaison',\n",
       "   'medical liaison',\n",
       "   'medical science liaison',\n",
       "   'share with anyone who you feel would be interested',\n",
       "   'maybe we can meet',\n",
       "   'please forward this',\n",
       "   'please forward it',\n",
       "   'please share this',\n",
       "   'please share it',\n",
       "   'msl team',\n",
       "   'pass along to your colleagues',\n",
       "   'company policy',\n",
       "   'meet outside',\n",
       "   'forward as',\n",
       "   'forward this to',\n",
       "   'forward to any',\n",
       "   'forward to all',\n",
       "   'forward or share',\n",
       "   'forward as needed',\n",
       "   'forward this email',\n",
       "   'christmas',\n",
       "   'russia/ukraine',\n",
       "   'ebc indication',\n",
       "   'ebc product',\n",
       "   'iaslc',\n",
       "   'iaslcs',\n",
       "   'precision medicine consultant',\n",
       "   'orange county consultant',\n",
       "   'senior consultant',\n",
       "   'senior executive oncology professional',\n",
       "   'pa with lilly',\n",
       "   'oncology account specialist',\n",
       "   'sales specialist',\n",
       "   'pharmacist',\n",
       "   'on your promotion',\n",
       "   'maternity leave',\n",
       "   'paternity leave',\n",
       "   'married',\n",
       "   'can you forward',\n",
       "   'happy anniversary',\n",
       "   'birthday',\n",
       "   'retirement',\n",
       "   'wedding',\n",
       "   'easter',\n",
       "   'marriage']},\n",
       " [('valuable resources', 100.0)])"
      ]
     },
     "execution_count": 59,
     "metadata": {},
     "output_type": "execute_result"
    }
   ],
   "source": [
    "preprocess_restricted_wrd(text, df_restricted_wrd, manual_trigger_words)"
   ]
  },
  {
   "cell_type": "code",
   "execution_count": 73,
   "metadata": {},
   "outputs": [],
   "source": [
    "def decontracted(phrase):\n",
    "    \"\"\"\n",
    "    Standardize certain tokens into a general format\n",
    "    \"\"\"\n",
    "    phrase=re.sub(\"’\",\"'\",phrase) \n",
    "    phrase=re.sub('“|”','\"',phrase)\n",
    "    #phrase=BeautifulSoup(html.unescape(phrase.encode(\"cp1252\",errors='ignore').decode(\"utf-8\")), \"lxml\").text#using a cp1252 encding as there are appearances of certain characters not supported by utf\n",
    "    phrase=BeautifulSoup(html.unescape(phrase.encode(\"utf-8\",errors='ignore').decode(\"utf-8\")), \"lxml\").text\n",
    "    phrase=re.sub(\"’\",\"'\",phrase) \n",
    "    phrase=re.sub('“','\"',phrase)\n",
    "    phrase=re.sub(\"\\s+\",\" \",phrase)\n",
    "    # specific\n",
    "    phrase = re.sub(r\"won\\'t\", \"will not\", phrase)\n",
    "    phrase = re.sub(r\"can\\'t\", \"can not\", phrase)\n",
    "    phrase = re.sub(r\"y\\'all\", \"you all\", phrase)\n",
    "\n",
    "    # general\n",
    "    phrase = re.sub(r\"n\\'t\", \" not\", phrase)\n",
    "    phrase = re.sub(r\"\\'re\", \" are\", phrase)\n",
    "    #phrase = re.sub(r\"\\'s\", \" is\", phrase)\n",
    "    phrase = re.sub(r\"\\'d\", \" would\", phrase)\n",
    "    phrase = re.sub(r\"\\'ll\", \" will\", phrase)\n",
    "    phrase = re.sub(r\"\\'t\", \" not\", phrase)\n",
    "    phrase = re.sub(r\"\\'ve\", \" have\", phrase)\n",
    "    phrase = re.sub(r\"\\'m\", \" am\", phrase)\n",
    "    return phrase"
   ]
  },
  {
   "cell_type": "code",
   "execution_count": null,
   "metadata": {},
   "outputs": [],
   "source": [
    "def kwe_rake(text,model_rake):# Rake model which extracts keyphrases on basis of occurance of stop words\n",
    "    kw_list=list()\n",
    "    text=re.sub(r\"'\",\"\",text)\n",
    "    model_rake.extract_keywords_from_text(text)\n",
    "    phrases=model_rake.get_ranked_phrases()\n",
    "    return extract_unique_phrases(phrases)\n",
    "\n",
    "def kwe_yake(text,yake_kw_extractor): #Yake model to extract keyphrases with max length as 8 using statistical properties\n",
    "    kw_list=list()\n",
    "    keywords = yake_kw_extractor.extract_keywords(text)\n",
    "    return extract_unique_phrases(keywords)\n",
    "\n",
    "def kwe_textrank(text):#Graph based solution to extract keyphrases\n",
    "    text_tokens = word_tokenize(text)\n",
    "    sent_without_sw =\" \".join([word for word in text_tokens if word.lower() not in all_stopwords])\n",
    "    textrank_phrases = keywords.keywords(sent_without_sw,ratio=1,split=True)\n",
    "    return extract_unique_phrases(textrank_phrases)\n",
    "def custom_extraction(text):\n",
    "    \"\"\"\n",
    "    Custom model that will extract phrases based on patterns found in text using spacy and custom logic\n",
    "    \"\"\"\n",
    "    res=list()\n",
    "    response=list()\n",
    "    counter=0\n",
    "    doc=nlp(text)\n",
    "    customlist=[\"year\",\"email\",\"phone\",\"name\",\"time\",\"month\",\"let\",\"know\",\"like\",\"weeks\"] #addtional stopwords which commonly occur\n",
    "    temp=[(tk.text,tk.pos_) for tk in doc]#Token and its POS Tag\n",
    "    wrds=[i[0] for i in temp] #tokens in a text\n",
    "    pos=[\"#\" if (i[1]==\"NOUN\" or i[1]==\"PROPN\") else i[1] for i in temp] #tags changed to \"#\" for normalizing in Tags\n",
    "    for e,t in enumerate(groupby(pos)): #groupby to get all consecutive NOUN/PROPN i.e \"#\" of any combination together\n",
    "        lst=list(t[1])\n",
    "        if t[0]==\"#\":\n",
    "            val=[(e1+counter) for e1,_ in enumerate(lst)]\n",
    "            res.append(val)\n",
    "        if len(lst)>1:\n",
    "            counter+=(len(lst))\n",
    "        else:\n",
    "            counter+=1\n",
    "    for phrase in [(\" \".join(wrds[i[0]:i[-1]+1])).strip() for i in res]:\n",
    "        if phrase not in response:\n",
    "            for wd in (list(all_stopwords)+customlist):\n",
    "                exp=r\"\\b\"+(wd)+\"\\\\b|\\\\b\"+(wd)+\"s\"+\"\\\\b\"\n",
    "                phrase=re.sub(exp,\" \",phrase.lower()) \n",
    "                phrase=re.sub(\"\\s+\",\" \",re.sub(\"[\\(\\)\\[\\]\\?!=:;/\\\\\\_-]\",\" \",phrase)).strip()\n",
    "            if (phrase) and (phrase not in response):\n",
    "                response.append(phrase)\n",
    "    adjwrds=[adj[0] for adj in temp if adj[1]==\"ADJ\"]\n",
    "    response.extend(adjwrds)\n",
    "    return response\n",
    "def extract_unique_phrases(keywords):#Common function to get only unique phrases\n",
    "    \"\"\"\n",
    "    Keywords->All keyphrases extracted from text using textrank,rake,yake\n",
    "    \"\"\"\n",
    "    kw_list=list()\n",
    "    for k in keywords:\n",
    "        if type(k)!=str:\n",
    "            k=k[0]\n",
    "        keywrd=k.lower().strip()\n",
    "        if keywrd not in kw_list:\n",
    "            kw_list.append(keywrd)\n",
    "    return kw_list"
   ]
  },
  {
   "cell_type": "code",
   "execution_count": null,
   "metadata": {},
   "outputs": [
    {
     "name": "stdout",
     "output_type": "stream",
     "text": [
      "Hi Nicole, Hope you are having a great week so far! I wanted to reach out and see if you were interested in attending our upcoming program at Jay's Bistro. Dr. Ammon Larsen will be presenting and answering questions, valuable resources. Please see below for program location and information. Hope to see you there! Date and time: Thursday, June 29, 2023 6:30 PM Location: Jay's Bistro 135 West Oak Street Fort Collins, CO\n",
      "['jays bistro 135 west oak street fort collins', 'jays bistro', '30 pm location', 'program location', 'valuable resources', 'upcoming program', 'june 29', 'hi nicole', 'great week', 'answering questions', 'ammon larsen', '2023 6', 'wanted', 'time', 'thursday', 'reach', 'presenting', 'interested', 'information', 'hope', 'having', 'far', 'dr', 'date', 'co', 'attending']\n",
      "['reach out and see if you were interested', 'having a great week so far', 'west oak street fort collins', 'hope you are having a great', 'ammon larsen will be presenting and answering questions', 'nicole', 'jay bistro', 'attending our upcoming program at jay bistro', 'ammon larsen', 'far', 'having', 'great', 'week', 'location', 'program', 'wanted to reach', 'interested in attending', 'valuable resources', 'thursday', 'june']\n",
      "['hope', 'bistro', 'location information', 'jay', 'fort', 'wanted reach interested attending upcoming program', 'street', 'nicole', 'oak', 'larsen presenting answering questions', 'great week far', 'ammon', 'thursday', 'date time', 'west', 'june', 'dr', 'valuable resources', 'pm', 'collins', 'hi']\n",
      "['nicole', 'hope', 'week', 'program', 'jay', 'bistro', 'dr. ammon larsen', 'questions', 'resources', 'program location', 'information', 'date', 'thursday', 'june', 'pm location', 'west oak street fort collins', 'co', 'great', 'interested', 'upcoming', 'valuable']\n",
      "['presenting', 'hope you are having a great', 'time', 'jays bistro', 'answering questions', 'great week far', 'having', 'june 29', 'hope', 'far', 'ammon', 'wanted', 'week', '30 pm location', 'jay', 'great', 'pm', 'west', 'collins', 'program', 'questions', 'wanted reach interested attending upcoming program', 'resources', 'attending our upcoming program at jay bistro', 'oak', 'co', 'wanted to reach', 'date', 'ammon larsen will be presenting and answering questions', 'thursday', 'ammon larsen', 'great week', 'dr. ammon larsen', '2023 6', 'interested in attending', 'program location', 'location', 'nicole', 'valuable resources', 'hi', 'jays bistro 135 west oak street fort collins', 'west oak street fort collins', 'fort', 'having a great week so far', 'location information', 'interested', 'upcoming', 'bistro', 'date time', 'hi nicole', 'dr', 'upcoming program', 'street', 'attending', 'valuable', 'jay bistro', 'larsen presenting answering questions', 'information', 'pm location', 'june', 'reach out and see if you were interested', 'reach']\n"
     ]
    }
   ],
   "source": [
    "tfidf = TFIDF(n_gram_range=params[\"tfidf_ngram_range\"],min_similarity=params[\"kw_cut_off\"],model_id=\"TFIDF\",cosine_method=\"sparse\")\n",
    "rapid = RapidFuzz(n_jobs=1,score_cutoff=params[\"kw_cut_off\"],scorer=fuzz.token_sort_ratio,model_id=\"RAPID\")\n",
    "    \n",
    "#Initialize models for keyphrase extraction\n",
    "rk = Rake(stopwords=all_stopwords,punctuations=None)\n",
    "#print(rk)\n",
    "yake_kw_extractor = yake.KeywordExtractor(stopwords=all_stopwords,lan='en', n=params[\"max_ngram\"][1], dedupLim=params[\"deduplication_threshold\"], windowsSize=params[\"window\"])\n",
    "#print(yake_kw_extractor)\n",
    "cleanedtext=decontracted(text)\n",
    "print(cleanedtext)\n",
    "rake=kwe_rake(cleanedtext,rk)\n",
    "print(rake)\n",
    "yake_kw=kwe_yake(cleanedtext,yake_kw_extractor)\n",
    "print(yake_kw)\n",
    "textrank=kwe_textrank(cleanedtext)\n",
    "print(textrank)\n",
    "custom=custom_extraction(cleanedtext)\n",
    "print(custom)\n",
    "merge_cols=list(set(rake+textrank+custom+yake_kw))\n",
    "print(merge_cols)"
   ]
  },
  {
   "cell_type": "code",
   "execution_count": 93,
   "metadata": {},
   "outputs": [],
   "source": [
    "import re \n",
    "import json\n",
    "import boto3\n",
    "import time\n",
    "from rapidfuzz import fuzz,process\n",
    "from presidio_analyzer import AnalyzerEngine\n",
    "#from .namematch import NameMatch\n",
    "\n",
    "# In[ ]:\n",
    "s3 = boto3.client('s3')\n",
    "\n",
    "\"\"\"\n",
    "Get the values from the config file\n",
    "\"\"\"\n",
    "\n",
    "\n",
    "with open(\"processing_job_config.json\",\"r\") as cf:\n",
    "    config_file=json.load(cf)\n",
    "\n",
    "param=config_file[\"offshelf_model\"]\n",
    "pii_name_cutoff=param[\"pii_cut_off\"]\n",
    "pii_analyzer = AnalyzerEngine(default_score_threshold=param[\"pii_analyzer_threshold\"])\n",
    "#entity_list = list(pii_analyzer.get_supported_entities())\n",
    "entity_list= [\"MEDICAL_LICENSE\", \"PERSON\", \"US_SSN\", \"AU_MEDICARE\", \"NRP\", \"EMAIL_ADDRESS\"]"
   ]
  },
  {
   "cell_type": "code",
   "execution_count": 94,
   "metadata": {},
   "outputs": [
    {
     "data": {
      "text/plain": [
       "<presidio_analyzer.analyzer_engine.AnalyzerEngine at 0x1981c2e2360>"
      ]
     },
     "execution_count": 94,
     "metadata": {},
     "output_type": "execute_result"
    }
   ],
   "source": [
    "pii_analyzer"
   ]
  },
  {
   "cell_type": "code",
   "execution_count": 95,
   "metadata": {},
   "outputs": [],
   "source": [
    "def fuzz_match(full_nm_lst,speaker_lst):\n",
    "    temp = []\n",
    "    for nm in full_nm_lst:\n",
    "        for sp_nm in speaker_lst:\n",
    "            if (fuzz.partial_ratio(nm,sp_nm)/100)>=pii_name_cutoff:\n",
    "                temp.append(nm)\n",
    "                break\n",
    "    full_nm_lst = [(i,100,\"PERSON\") for i in full_nm_lst if i not in temp]\n",
    "    return full_nm_lst"
   ]
  },
  {
   "cell_type": "code",
   "execution_count": 83,
   "metadata": {},
   "outputs": [],
   "source": [
    "def detect_pii(text,lst_of_sentences,recipient_name,sender_name,speaker_lst,fieldname): #presidio analyzer to detect to Privacy related information\n",
    "    \n",
    "    \"\"\"\n",
    "    Input Args: Text ->  complete text\n",
    "           lst_of_sentences -> list of sentences of text obtained using sparknlp\n",
    "           recipient name -> Name of the recipient got from the VAE\n",
    "           sender name -> Name of the sender got from the VAE\n",
    "           \n",
    "    Returns: \n",
    "            (pii entities,entity type,sentences with those entities,score,time taken)\n",
    "    \n",
    "    \"\"\"\n",
    "    start_time=time.time()\n",
    "    full_nm = []\n",
    "    rm_wrds = [\"hope\",\"hello\"]\n",
    "    pii_phrases,temp,reciever_names,sender_names,first_name = ([] for i in range(5)) #generate multiple empty lists\n",
    "    pii_entities = pii_analyzer.analyze(text, entities=entity_list, language='en') #instantiate the pii analyzer\n",
    "    print(pii_entities)\n",
    "    for phrase in pii_entities:\n",
    "        #condition to get all matching name of the reciepient from identified entities\n",
    "        if (phrase.entity_type == \"PERSON\" and ((fuzz.partial_token_set_ratio(text[phrase.start:phrase.end].lower(),recipient_name.lower())/100>pii_name_cutoff))):\n",
    "            reciever_names.append(text[phrase.start:phrase.end].lower())\n",
    "        #condition to get all matching name of the reciepient from identified entities\n",
    "        if (phrase.entity_type == \"PERSON\" and ((fuzz.partial_token_set_ratio(text[phrase.start:phrase.end].lower(),sender_name.lower())/100>pii_name_cutoff))):\n",
    "            sender_names.append(text[phrase.start:phrase.end].lower())\n",
    "            \n",
    "        if (phrase.entity_type == \"PERSON\") and (fieldname == \"Lilly_User_Input_Text_1__c\") and  (int(phrase.end)<=20) and (text[phrase.start:phrase.end].lower() not in sender_names):\n",
    "            \n",
    "            first_extracted_name = text[phrase.start:phrase.end].lower()\n",
    "            for wrd in rm_wrds:\n",
    "                first_extracted_name = re.sub(f'^dr',\"\",first_extracted_name)\n",
    "                first_extracted_name = re.sub(f'{wrd}',\"\",first_extracted_name)\n",
    "            first_extracted_name = first_extracted_name.lstrip().rstrip()    \n",
    "            if first_extracted_name:\n",
    "                first_name.append(first_extracted_name)\n",
    "            \n",
    "        #extract all unique  entities from text  using their span\n",
    "        if text[phrase.start:phrase.end] not in temp:\n",
    "            ent_pair=(text[phrase.start:phrase.end].lower(),phrase.score,phrase.entity_type)\n",
    "            pii_phrases.append(ent_pair)\n",
    "            temp.append(text[phrase.start:phrase.end]) \n",
    "    if reciever_names: #remove first occurence of recipient name\n",
    "        pii_phrases=[i for i in pii_phrases if reciever_names[0]!=i[0]]\n",
    "    if sender_names: #remove first occurence of sender name\n",
    "        pii_phrases=[i for i in pii_phrases if sender_names[0]!=i[0]]\n",
    "    pii_phrases_temp = [i for i in pii_phrases if i[2]==\"PERSON\"]\n",
    "    pii_phrases_person = []\n",
    "    for nm in pii_phrases_temp:\n",
    "        new_nm = nm[0]\n",
    "        for wd in rm_wrds:\n",
    "            new_nm = re.sub(\"^(dr.|dr )\",\"\",new_nm)\n",
    "            new_nm = re.sub(f'{wd}',\"\",new_nm)\n",
    "        new_nm = str(new_nm).lstrip().rstrip()\n",
    "        if len(new_nm)>2:\n",
    "            t=(new_nm,nm[1],nm[2])\n",
    "            pii_phrases_person.append(t)\n",
    "    pii_phrases = [i for i in pii_phrases if i[2]!=\"PERSON\"]\n",
    "    \n",
    "    for nm in pii_phrases_person:\n",
    "        if(len(re.split(\" |,|-\",nm[0]))>=2):\n",
    "            if len(re.split(\" |,|-\",nm[0])[-1])>1:\n",
    "                full_nm.append(nm[0])\n",
    "                \n",
    "    full_names= fuzz_match(full_nm,speaker_lst)\n",
    "    pii_phrases.extend(full_names)\n",
    "    if first_name:\n",
    "        key = (first_name[0],recipient_name)\n",
    "        nm = NameMatch(key)\n",
    "        val = nm.matchname()\n",
    "        if val == \"No Match\":\n",
    "            t=(first_name[0],100,\"PERSON\")\n",
    "            pii_phrases.append(t)\n",
    "    #print(pii_phrases)\n",
    "    #extract sentences where the entities where present\n",
    "    res=[(i[0],i[1],i[2],[sent for sent in lst_of_sentences if bool(re.search(r\"(^|\\W)\"+re.escape(i[0])+r\"(\\W|$)\",sent,re.IGNORECASE))])                                                                                                for i in pii_phrases]\n",
    "    res = [(i[0],2.2,i[2],i[3]) if i[2] == \"PERSON\" else (i[0],i[1],i[2],i[3]) for i in res ]\n",
    "    exe_time=time.time()-start_time\n",
    "    return res, round(exe_time,3) #return response along with the execution time"
   ]
  },
  {
   "cell_type": "code",
   "execution_count": 84,
   "metadata": {},
   "outputs": [
    {
     "name": "stdout",
     "output_type": "stream",
     "text": [
      "[]\n"
     ]
    }
   ],
   "source": [
    "text = \"Hi Nicole, Hope you are having a great week so far! I wanted to reach out and see if you were interested in attending our upcoming program at Jay's Bistro. Dr. Ammon Larsen will be presenting and answering questions, valuable resources. Please see below for program location and information. Hope to see you there!   Date and time: Thursday, June 29, 2023 6:30 PM Location: Jay's Bistro 135 West Oak Street Fort Collins, CO\"\n",
    "lst_of_sentences = [\"Hi Nicole, Hope you are having a great week so far\",\"I wanted to reach out and see if you were interested in attending our upcoming program at Jay's Bistro.\",\"Dr. Ammon Larsen will be presenting and answering questions, valuable resources.\",\"Please see below for program location and information.\", \"Hope to see you there!\",\"Date and time: Thursday, June 29, 2023 6:30 PM Location: Jay's Bistro 135 West Oak Street Fort Collins, CO\"]\n",
    "recipient_name = 'Nicole Kidman'\n",
    "sender_name = 'David hughman'\n",
    "speaker_lst = 'Brandy Kole'\n",
    "fieldname = 'Lilly_User_Input_Text_1__c'\n",
    "ans = detect_pii(text, lst_of_sentences, recipient_name, sender_name, speaker_lst, fieldname) #presidio analyzer to detect to Privacy related information\n"
   ]
  },
  {
   "cell_type": "code",
   "execution_count": 85,
   "metadata": {},
   "outputs": [
    {
     "data": {
      "text/plain": [
       "([], 0.013)"
      ]
     },
     "execution_count": 85,
     "metadata": {},
     "output_type": "execute_result"
    }
   ],
   "source": [
    "ans"
   ]
  },
  {
   "cell_type": "code",
   "execution_count": 96,
   "metadata": {},
   "outputs": [],
   "source": [
    "pii_entities = pii_analyzer.analyze(text, language='en')"
   ]
  },
  {
   "cell_type": "code",
   "execution_count": 97,
   "metadata": {},
   "outputs": [
    {
     "data": {
      "text/plain": [
       "[]"
      ]
     },
     "execution_count": 97,
     "metadata": {},
     "output_type": "execute_result"
    }
   ],
   "source": [
    "pii_entities"
   ]
  },
  {
   "cell_type": "code",
   "execution_count": null,
   "metadata": {},
   "outputs": [],
   "source": []
  }
 ],
 "metadata": {
  "kernelspec": {
   "display_name": "Python 3",
   "language": "python",
   "name": "python3"
  },
  "language_info": {
   "codemirror_mode": {
    "name": "ipython",
    "version": 3
   },
   "file_extension": ".py",
   "mimetype": "text/x-python",
   "name": "python",
   "nbconvert_exporter": "python",
   "pygments_lexer": "ipython3",
   "version": "3.12.8"
  }
 },
 "nbformat": 4,
 "nbformat_minor": 2
}
